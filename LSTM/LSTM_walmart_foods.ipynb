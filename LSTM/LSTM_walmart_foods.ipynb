{
  "cells": [
    {
      "cell_type": "code",
      "execution_count": 1,
      "metadata": {
        "colab": {
          "base_uri": "https://localhost:8080/"
        },
        "id": "hts8HMHwi8Fq",
        "outputId": "fd0baa7e-8c3c-49ba-ae69-d14745ec1cb6"
      },
      "outputs": [
        {
          "name": "stdout",
          "output_type": "stream",
          "text": [
            "Mounted at /content/gdrive\n"
          ]
        }
      ],
      "source": [
        "from google.colab import drive\n",
        "drive.mount('/content/gdrive', force_remount=True)"
      ]
    },
    {
      "cell_type": "code",
      "execution_count": 2,
      "metadata": {
        "colab": {
          "base_uri": "https://localhost:8080/"
        },
        "id": "Zkf_UatWjDAW",
        "outputId": "cc199a5b-f872-4ae0-a533-0946a6c781de"
      },
      "outputs": [
        {
          "name": "stdout",
          "output_type": "stream",
          "text": [
            "Looking in indexes: https://pypi.org/simple, https://us-python.pkg.dev/colab-wheels/public/simple/\n",
            "Requirement already satisfied: pip in /usr/local/lib/python3.8/dist-packages (22.3.1)\n",
            "\u001b[33mWARNING: Running pip as the 'root' user can result in broken permissions and conflicting behaviour with the system package manager. It is recommended to use a virtual environment instead: https://pip.pypa.io/warnings/venv\u001b[0m\u001b[33m\n",
            "\u001b[0mLooking in indexes: https://pypi.org/simple, https://us-python.pkg.dev/colab-wheels/public/simple/\n",
            "Requirement already satisfied: kats in /usr/local/lib/python3.8/dist-packages (0.2.0)\n",
            "Requirement already satisfied: statsmodels==0.12.2 in /usr/local/lib/python3.8/dist-packages (from kats) (0.12.2)\n",
            "Requirement already satisfied: pandas<=1.3.5,>=1.0.4 in /usr/local/lib/python3.8/dist-packages (from kats) (1.3.5)\n",
            "Requirement already satisfied: pystan==2.19.1.1 in /usr/local/lib/python3.8/dist-packages (from kats) (2.19.1.1)\n",
            "Requirement already satisfied: tqdm>=4.36.1 in /usr/local/lib/python3.8/dist-packages (from kats) (4.64.1)\n",
            "Requirement already satisfied: LunarCalendar>=0.0.9 in /usr/local/lib/python3.8/dist-packages (from kats) (0.0.9)\n",
            "Requirement already satisfied: pymannkendall>=1.4.1 in /usr/local/lib/python3.8/dist-packages (from kats) (1.4.2)\n",
            "Requirement already satisfied: plotly>=2.2.1 in /usr/local/lib/python3.8/dist-packages (from kats) (5.5.0)\n",
            "Requirement already satisfied: setuptools-git>=1.2 in /usr/local/lib/python3.8/dist-packages (from kats) (1.2)\n",
            "Requirement already satisfied: torch in /usr/local/lib/python3.8/dist-packages (from kats) (1.12.1+cu113)\n",
            "Requirement already satisfied: ax-platform==0.2.4 in /usr/local/lib/python3.8/dist-packages (from kats) (0.2.4)\n",
            "Requirement already satisfied: gpytorch in /usr/local/lib/python3.8/dist-packages (from kats) (1.9.0)\n",
            "Requirement already satisfied: scikit-learn>=0.24.2 in /usr/local/lib/python3.8/dist-packages (from kats) (1.0.2)\n",
            "Requirement already satisfied: matplotlib>=2.0.0 in /usr/local/lib/python3.8/dist-packages (from kats) (3.2.2)\n",
            "Requirement already satisfied: holidays>=0.10.2 in /usr/local/lib/python3.8/dist-packages (from kats) (0.17)\n",
            "Requirement already satisfied: fbprophet==0.7.1 in /usr/local/lib/python3.8/dist-packages (from kats) (0.7.1)\n",
            "Requirement already satisfied: seaborn>=0.11.1 in /usr/local/lib/python3.8/dist-packages (from kats) (0.11.2)\n",
            "Requirement already satisfied: deprecated>=1.2.12 in /usr/local/lib/python3.8/dist-packages (from kats) (1.2.13)\n",
            "Requirement already satisfied: python-dateutil>=2.8.0 in /usr/local/lib/python3.8/dist-packages (from kats) (2.8.2)\n",
            "Requirement already satisfied: numba>=0.52.0 in /usr/local/lib/python3.8/dist-packages (from kats) (0.56.4)\n",
            "Requirement already satisfied: pytest-mpl>=0.12 in /usr/local/lib/python3.8/dist-packages (from kats) (0.16.1)\n",
            "Requirement already satisfied: scipy<1.8.0 in /usr/local/lib/python3.8/dist-packages (from kats) (1.7.3)\n",
            "Requirement already satisfied: attrs>=21.2.0 in /usr/local/lib/python3.8/dist-packages (from kats) (22.1.0)\n",
            "Requirement already satisfied: parameterized>=0.8.1 in /usr/local/lib/python3.8/dist-packages (from kats) (0.8.1)\n",
            "Requirement already satisfied: numpy<1.22,>=1.21 in /usr/local/lib/python3.8/dist-packages (from kats) (1.21.6)\n",
            "Requirement already satisfied: typeguard in /usr/local/lib/python3.8/dist-packages (from ax-platform==0.2.4->kats) (2.7.1)\n",
            "Requirement already satisfied: botorch==0.6.2 in /usr/local/lib/python3.8/dist-packages (from ax-platform==0.2.4->kats) (0.6.2)\n",
            "Requirement already satisfied: jinja2 in /usr/local/lib/python3.8/dist-packages (from ax-platform==0.2.4->kats) (2.11.3)\n",
            "Requirement already satisfied: Cython>=0.22 in /usr/local/lib/python3.8/dist-packages (from fbprophet==0.7.1->kats) (0.29.32)\n",
            "Requirement already satisfied: cmdstanpy==0.9.5 in /usr/local/lib/python3.8/dist-packages (from fbprophet==0.7.1->kats) (0.9.5)\n",
            "Requirement already satisfied: convertdate>=2.1.2 in /usr/local/lib/python3.8/dist-packages (from fbprophet==0.7.1->kats) (2.4.0)\n",
            "Requirement already satisfied: patsy>=0.5 in /usr/local/lib/python3.8/dist-packages (from statsmodels==0.12.2->kats) (0.5.3)\n",
            "Requirement already satisfied: multipledispatch in /usr/local/lib/python3.8/dist-packages (from botorch==0.6.2->ax-platform==0.2.4->kats) (0.6.0)\n",
            "Requirement already satisfied: wrapt<2,>=1.10 in /usr/local/lib/python3.8/dist-packages (from deprecated>=1.2.12->kats) (1.14.1)\n",
            "Requirement already satisfied: linear-operator>=0.1.1 in /usr/local/lib/python3.8/dist-packages (from gpytorch->kats) (0.3.0)\n",
            "Requirement already satisfied: hijri-converter in /usr/local/lib/python3.8/dist-packages (from holidays>=0.10.2->kats) (2.2.4)\n",
            "Requirement already satisfied: korean-lunar-calendar in /usr/local/lib/python3.8/dist-packages (from holidays>=0.10.2->kats) (0.3.1)\n",
            "Requirement already satisfied: pytz in /usr/local/lib/python3.8/dist-packages (from LunarCalendar>=0.0.9->kats) (2022.6)\n",
            "Requirement already satisfied: ephem>=3.7.5.3 in /usr/local/lib/python3.8/dist-packages (from LunarCalendar>=0.0.9->kats) (4.1.3)\n",
            "Requirement already satisfied: pyparsing!=2.0.4,!=2.1.2,!=2.1.6,>=2.0.1 in /usr/local/lib/python3.8/dist-packages (from matplotlib>=2.0.0->kats) (3.0.9)\n",
            "Requirement already satisfied: cycler>=0.10 in /usr/local/lib/python3.8/dist-packages (from matplotlib>=2.0.0->kats) (0.11.0)\n",
            "Requirement already satisfied: kiwisolver>=1.0.1 in /usr/local/lib/python3.8/dist-packages (from matplotlib>=2.0.0->kats) (1.4.4)\n",
            "Requirement already satisfied: setuptools in /usr/local/lib/python3.8/dist-packages (from numba>=0.52.0->kats) (57.4.0)\n",
            "Requirement already satisfied: llvmlite<0.40,>=0.39.0dev0 in /usr/local/lib/python3.8/dist-packages (from numba>=0.52.0->kats) (0.39.1)\n",
            "Requirement already satisfied: importlib-metadata in /usr/local/lib/python3.8/dist-packages (from numba>=0.52.0->kats) (4.13.0)\n",
            "Requirement already satisfied: tenacity>=6.2.0 in /usr/local/lib/python3.8/dist-packages (from plotly>=2.2.1->kats) (8.1.0)\n",
            "Requirement already satisfied: six in /usr/local/lib/python3.8/dist-packages (from plotly>=2.2.1->kats) (1.15.0)\n",
            "Requirement already satisfied: Pillow in /usr/local/lib/python3.8/dist-packages (from pytest-mpl>=0.12->kats) (7.1.2)\n",
            "Requirement already satisfied: pytest in /usr/local/lib/python3.8/dist-packages (from pytest-mpl>=0.12->kats) (3.6.4)\n",
            "Requirement already satisfied: packaging in /usr/local/lib/python3.8/dist-packages (from pytest-mpl>=0.12->kats) (21.3)\n",
            "Requirement already satisfied: joblib>=0.11 in /usr/local/lib/python3.8/dist-packages (from scikit-learn>=0.24.2->kats) (1.2.0)\n",
            "Requirement already satisfied: threadpoolctl>=2.0.0 in /usr/local/lib/python3.8/dist-packages (from scikit-learn>=0.24.2->kats) (3.1.0)\n",
            "Requirement already satisfied: typing-extensions in /usr/local/lib/python3.8/dist-packages (from torch->kats) (4.1.1)\n",
            "Requirement already satisfied: pymeeus<=1,>=0.3.13 in /usr/local/lib/python3.8/dist-packages (from convertdate>=2.1.2->fbprophet==0.7.1->kats) (0.5.11)\n",
            "Requirement already satisfied: zipp>=0.5 in /usr/local/lib/python3.8/dist-packages (from importlib-metadata->numba>=0.52.0->kats) (3.10.0)\n",
            "Requirement already satisfied: MarkupSafe>=0.23 in /usr/local/lib/python3.8/dist-packages (from jinja2->ax-platform==0.2.4->kats) (2.0.1)\n",
            "Requirement already satisfied: more-itertools>=4.0.0 in /usr/local/lib/python3.8/dist-packages (from pytest->pytest-mpl>=0.12->kats) (9.0.0)\n",
            "Requirement already satisfied: pluggy<0.8,>=0.5 in /usr/local/lib/python3.8/dist-packages (from pytest->pytest-mpl>=0.12->kats) (0.7.1)\n",
            "Requirement already satisfied: py>=1.5.0 in /usr/local/lib/python3.8/dist-packages (from pytest->pytest-mpl>=0.12->kats) (1.11.0)\n",
            "Requirement already satisfied: atomicwrites>=1.0 in /usr/local/lib/python3.8/dist-packages (from pytest->pytest-mpl>=0.12->kats) (1.4.1)\n",
            "\u001b[33mWARNING: Running pip as the 'root' user can result in broken permissions and conflicting behaviour with the system package manager. It is recommended to use a virtual environment instead: https://pip.pypa.io/warnings/venv\u001b[0m\u001b[33m\n",
            "\u001b[0mLooking in indexes: https://pypi.org/simple, https://us-python.pkg.dev/colab-wheels/public/simple/\n",
            "Requirement already satisfied: ax-platform==0.2.4 in /usr/local/lib/python3.8/dist-packages (0.2.4)\n",
            "Requirement already satisfied: statsmodels==0.12.2 in /usr/local/lib/python3.8/dist-packages (0.12.2)\n",
            "Requirement already satisfied: jinja2 in /usr/local/lib/python3.8/dist-packages (from ax-platform==0.2.4) (2.11.3)\n",
            "Requirement already satisfied: typeguard in /usr/local/lib/python3.8/dist-packages (from ax-platform==0.2.4) (2.7.1)\n",
            "Requirement already satisfied: scipy in /usr/local/lib/python3.8/dist-packages (from ax-platform==0.2.4) (1.7.3)\n",
            "Requirement already satisfied: scikit-learn in /usr/local/lib/python3.8/dist-packages (from ax-platform==0.2.4) (1.0.2)\n",
            "Requirement already satisfied: pandas in /usr/local/lib/python3.8/dist-packages (from ax-platform==0.2.4) (1.3.5)\n",
            "Requirement already satisfied: botorch==0.6.2 in /usr/local/lib/python3.8/dist-packages (from ax-platform==0.2.4) (0.6.2)\n",
            "Requirement already satisfied: plotly in /usr/local/lib/python3.8/dist-packages (from ax-platform==0.2.4) (5.5.0)\n",
            "Requirement already satisfied: numpy>=1.15 in /usr/local/lib/python3.8/dist-packages (from statsmodels==0.12.2) (1.21.6)\n",
            "Requirement already satisfied: patsy>=0.5 in /usr/local/lib/python3.8/dist-packages (from statsmodels==0.12.2) (0.5.3)\n",
            "Requirement already satisfied: multipledispatch in /usr/local/lib/python3.8/dist-packages (from botorch==0.6.2->ax-platform==0.2.4) (0.6.0)\n",
            "Requirement already satisfied: gpytorch>=1.6 in /usr/local/lib/python3.8/dist-packages (from botorch==0.6.2->ax-platform==0.2.4) (1.9.0)\n",
            "Requirement already satisfied: torch>=1.9 in /usr/local/lib/python3.8/dist-packages (from botorch==0.6.2->ax-platform==0.2.4) (1.12.1+cu113)\n",
            "Requirement already satisfied: python-dateutil>=2.7.3 in /usr/local/lib/python3.8/dist-packages (from pandas->ax-platform==0.2.4) (2.8.2)\n",
            "Requirement already satisfied: pytz>=2017.3 in /usr/local/lib/python3.8/dist-packages (from pandas->ax-platform==0.2.4) (2022.6)\n",
            "Requirement already satisfied: six in /usr/local/lib/python3.8/dist-packages (from patsy>=0.5->statsmodels==0.12.2) (1.15.0)\n",
            "Requirement already satisfied: MarkupSafe>=0.23 in /usr/local/lib/python3.8/dist-packages (from jinja2->ax-platform==0.2.4) (2.0.1)\n",
            "Requirement already satisfied: tenacity>=6.2.0 in /usr/local/lib/python3.8/dist-packages (from plotly->ax-platform==0.2.4) (8.1.0)\n",
            "Requirement already satisfied: threadpoolctl>=2.0.0 in /usr/local/lib/python3.8/dist-packages (from scikit-learn->ax-platform==0.2.4) (3.1.0)\n",
            "Requirement already satisfied: joblib>=0.11 in /usr/local/lib/python3.8/dist-packages (from scikit-learn->ax-platform==0.2.4) (1.2.0)\n",
            "Requirement already satisfied: linear-operator>=0.1.1 in /usr/local/lib/python3.8/dist-packages (from gpytorch>=1.6->botorch==0.6.2->ax-platform==0.2.4) (0.3.0)\n",
            "Requirement already satisfied: typing-extensions in /usr/local/lib/python3.8/dist-packages (from torch>=1.9->botorch==0.6.2->ax-platform==0.2.4) (4.1.1)\n",
            "\u001b[33mWARNING: Running pip as the 'root' user can result in broken permissions and conflicting behaviour with the system package manager. It is recommended to use a virtual environment instead: https://pip.pypa.io/warnings/venv\u001b[0m\u001b[33m\n",
            "\u001b[0m"
          ]
        }
      ],
      "source": [
        "!pip install --upgrade pip\n",
        "!pip install kats\n",
        "!pip install ax-platform==0.2.4 statsmodels==0.12.2"
      ]
    },
    {
      "cell_type": "code",
      "execution_count": 3,
      "metadata": {
        "colab": {
          "base_uri": "https://localhost:8080/"
        },
        "id": "eU4zQASMjGBe",
        "outputId": "84371f9a-0b1f-4938-b121-e7de944ac753"
      },
      "outputs": [
        {
          "name": "stderr",
          "output_type": "stream",
          "text": [
            "WARNING:root:kats.utils.time_series_parameter_tuning requires ax-platform be installed\n",
            "WARNING:root:kats.models.metalearner.get_metadata requires ax-platform be installed\n"
          ]
        }
      ],
      "source": [
        "import pandas as pd \n",
        "import numpy as np \n",
        "from kats.detectors.outlier import OutlierDetector\n",
        "from kats.consts import TimeSeriesData\n",
        "import matplotlib.pyplot as plt\n",
        "from sklearn.preprocessing import MinMaxScaler"
      ]
    },
    {
      "cell_type": "code",
      "execution_count": 4,
      "metadata": {
        "colab": {
          "base_uri": "https://localhost:8080/"
        },
        "id": "erpffONgjVwe",
        "outputId": "8b97d045-45c5-4cd5-f1cb-34544751b4a9"
      },
      "outputs": [
        {
          "name": "stdout",
          "output_type": "stream",
          "text": [
            "Tensorflow Version: 2.9.2\n",
            "Num GPUs: 1\n"
          ]
        }
      ],
      "source": [
        "import math\n",
        "import numpy as np\n",
        "import pandas as pd\n",
        "import matplotlib.pyplot as plt\n",
        "from tensorflow.keras.models import Sequential\n",
        "from tensorflow.keras.layers import LSTM, Dense, TimeDistributed, Dropout, Activation\n",
        "from sklearn.preprocessing import RobustScaler, StandardScaler\n",
        "from sklearn.metrics import mean_absolute_error\n",
        "import tensorflow as tf\n",
        "import seaborn as sns\n",
        "sns.set_style('white', { 'axes.spines.right': False, 'axes.spines.top': False})\n",
        "\n",
        "# check the tensorflow version and the number of available GPUs\n",
        "print('Tensorflow Version: ' + tf.__version__)\n",
        "physical_devices = tf.config.list_physical_devices('GPU')\n",
        "print(\"Num GPUs:\", len(physical_devices))"
      ]
    },
    {
      "cell_type": "code",
      "execution_count": 5,
      "metadata": {
        "colab": {
          "base_uri": "https://localhost:8080/",
          "height": 206
        },
        "id": "dBBCZuvsjINA",
        "outputId": "0e4a76c5-8590-49b8-85d0-46086cc1d988"
      },
      "outputs": [
        {
          "data": {
            "text/html": [
              "\n",
              "  <div id=\"df-d45026dd-0ee5-4f2c-80ef-5bbc816904ac\">\n",
              "    <div class=\"colab-df-container\">\n",
              "      <div>\n",
              "<style scoped>\n",
              "    .dataframe tbody tr th:only-of-type {\n",
              "        vertical-align: middle;\n",
              "    }\n",
              "\n",
              "    .dataframe tbody tr th {\n",
              "        vertical-align: top;\n",
              "    }\n",
              "\n",
              "    .dataframe thead th {\n",
              "        text-align: right;\n",
              "    }\n",
              "</style>\n",
              "<table border=\"1\" class=\"dataframe\">\n",
              "  <thead>\n",
              "    <tr style=\"text-align: right;\">\n",
              "      <th></th>\n",
              "      <th>date</th>\n",
              "      <th>state_id</th>\n",
              "      <th>cat_id</th>\n",
              "      <th>sell_price</th>\n",
              "      <th>value</th>\n",
              "      <th>total_sells</th>\n",
              "    </tr>\n",
              "  </thead>\n",
              "  <tbody>\n",
              "    <tr>\n",
              "      <th>0</th>\n",
              "      <td>2011-01-29</td>\n",
              "      <td>CA</td>\n",
              "      <td>FOODS</td>\n",
              "      <td>4059.66</td>\n",
              "      <td>8878</td>\n",
              "      <td>36041661.48</td>\n",
              "    </tr>\n",
              "    <tr>\n",
              "      <th>1</th>\n",
              "      <td>2011-01-29</td>\n",
              "      <td>CA</td>\n",
              "      <td>HOBBIES</td>\n",
              "      <td>1470.28</td>\n",
              "      <td>1644</td>\n",
              "      <td>2417140.32</td>\n",
              "    </tr>\n",
              "    <tr>\n",
              "      <th>2</th>\n",
              "      <td>2011-01-29</td>\n",
              "      <td>CA</td>\n",
              "      <td>HOUSEHOLD</td>\n",
              "      <td>3594.69</td>\n",
              "      <td>2048</td>\n",
              "      <td>7361925.12</td>\n",
              "    </tr>\n",
              "    <tr>\n",
              "      <th>3</th>\n",
              "      <td>2011-01-30</td>\n",
              "      <td>CA</td>\n",
              "      <td>FOODS</td>\n",
              "      <td>3750.99</td>\n",
              "      <td>8593</td>\n",
              "      <td>32232257.07</td>\n",
              "    </tr>\n",
              "    <tr>\n",
              "      <th>4</th>\n",
              "      <td>2011-01-30</td>\n",
              "      <td>CA</td>\n",
              "      <td>HOBBIES</td>\n",
              "      <td>1334.13</td>\n",
              "      <td>1325</td>\n",
              "      <td>1767722.25</td>\n",
              "    </tr>\n",
              "  </tbody>\n",
              "</table>\n",
              "</div>\n",
              "      <button class=\"colab-df-convert\" onclick=\"convertToInteractive('df-d45026dd-0ee5-4f2c-80ef-5bbc816904ac')\"\n",
              "              title=\"Convert this dataframe to an interactive table.\"\n",
              "              style=\"display:none;\">\n",
              "        \n",
              "  <svg xmlns=\"http://www.w3.org/2000/svg\" height=\"24px\"viewBox=\"0 0 24 24\"\n",
              "       width=\"24px\">\n",
              "    <path d=\"M0 0h24v24H0V0z\" fill=\"none\"/>\n",
              "    <path d=\"M18.56 5.44l.94 2.06.94-2.06 2.06-.94-2.06-.94-.94-2.06-.94 2.06-2.06.94zm-11 1L8.5 8.5l.94-2.06 2.06-.94-2.06-.94L8.5 2.5l-.94 2.06-2.06.94zm10 10l.94 2.06.94-2.06 2.06-.94-2.06-.94-.94-2.06-.94 2.06-2.06.94z\"/><path d=\"M17.41 7.96l-1.37-1.37c-.4-.4-.92-.59-1.43-.59-.52 0-1.04.2-1.43.59L10.3 9.45l-7.72 7.72c-.78.78-.78 2.05 0 2.83L4 21.41c.39.39.9.59 1.41.59.51 0 1.02-.2 1.41-.59l7.78-7.78 2.81-2.81c.8-.78.8-2.07 0-2.86zM5.41 20L4 18.59l7.72-7.72 1.47 1.35L5.41 20z\"/>\n",
              "  </svg>\n",
              "      </button>\n",
              "      \n",
              "  <style>\n",
              "    .colab-df-container {\n",
              "      display:flex;\n",
              "      flex-wrap:wrap;\n",
              "      gap: 12px;\n",
              "    }\n",
              "\n",
              "    .colab-df-convert {\n",
              "      background-color: #E8F0FE;\n",
              "      border: none;\n",
              "      border-radius: 50%;\n",
              "      cursor: pointer;\n",
              "      display: none;\n",
              "      fill: #1967D2;\n",
              "      height: 32px;\n",
              "      padding: 0 0 0 0;\n",
              "      width: 32px;\n",
              "    }\n",
              "\n",
              "    .colab-df-convert:hover {\n",
              "      background-color: #E2EBFA;\n",
              "      box-shadow: 0px 1px 2px rgba(60, 64, 67, 0.3), 0px 1px 3px 1px rgba(60, 64, 67, 0.15);\n",
              "      fill: #174EA6;\n",
              "    }\n",
              "\n",
              "    [theme=dark] .colab-df-convert {\n",
              "      background-color: #3B4455;\n",
              "      fill: #D2E3FC;\n",
              "    }\n",
              "\n",
              "    [theme=dark] .colab-df-convert:hover {\n",
              "      background-color: #434B5C;\n",
              "      box-shadow: 0px 1px 3px 1px rgba(0, 0, 0, 0.15);\n",
              "      filter: drop-shadow(0px 1px 2px rgba(0, 0, 0, 0.3));\n",
              "      fill: #FFFFFF;\n",
              "    }\n",
              "  </style>\n",
              "\n",
              "      <script>\n",
              "        const buttonEl =\n",
              "          document.querySelector('#df-d45026dd-0ee5-4f2c-80ef-5bbc816904ac button.colab-df-convert');\n",
              "        buttonEl.style.display =\n",
              "          google.colab.kernel.accessAllowed ? 'block' : 'none';\n",
              "\n",
              "        async function convertToInteractive(key) {\n",
              "          const element = document.querySelector('#df-d45026dd-0ee5-4f2c-80ef-5bbc816904ac');\n",
              "          const dataTable =\n",
              "            await google.colab.kernel.invokeFunction('convertToInteractive',\n",
              "                                                     [key], {});\n",
              "          if (!dataTable) return;\n",
              "\n",
              "          const docLinkHtml = 'Like what you see? Visit the ' +\n",
              "            '<a target=\"_blank\" href=https://colab.research.google.com/notebooks/data_table.ipynb>data table notebook</a>'\n",
              "            + ' to learn more about interactive tables.';\n",
              "          element.innerHTML = '';\n",
              "          dataTable['output_type'] = 'display_data';\n",
              "          await google.colab.output.renderOutput(dataTable, element);\n",
              "          const docLink = document.createElement('div');\n",
              "          docLink.innerHTML = docLinkHtml;\n",
              "          element.appendChild(docLink);\n",
              "        }\n",
              "      </script>\n",
              "    </div>\n",
              "  </div>\n",
              "  "
            ],
            "text/plain": [
              "         date state_id     cat_id  sell_price  value  total_sells\n",
              "0  2011-01-29       CA      FOODS     4059.66   8878  36041661.48\n",
              "1  2011-01-29       CA    HOBBIES     1470.28   1644   2417140.32\n",
              "2  2011-01-29       CA  HOUSEHOLD     3594.69   2048   7361925.12\n",
              "3  2011-01-30       CA      FOODS     3750.99   8593  32232257.07\n",
              "4  2011-01-30       CA    HOBBIES     1334.13   1325   1767722.25"
            ]
          },
          "execution_count": 5,
          "metadata": {},
          "output_type": "execute_result"
        }
      ],
      "source": [
        "df = pd.read_csv(\"/content/gdrive/MyDrive/Maestría_CDA/2_SEMESTRE/Met_Estadísticos Avanzados /Proyecto Integrador/m5-forecasting-accuracy/Copia de total_sales_clean.csv\")\n",
        "df=df.drop(df.columns[[0]],axis=1)\n",
        "df.head(5)"
      ]
    },
    {
      "cell_type": "markdown",
      "metadata": {
        "id": "lwu7eC_2kBSv"
      },
      "source": [
        "### **FOODS**\n"
      ]
    },
    {
      "cell_type": "code",
      "execution_count": 6,
      "metadata": {
        "colab": {
          "base_uri": "https://localhost:8080/",
          "height": 175
        },
        "id": "IsQ1-jRfkEpq",
        "outputId": "947374e1-ade9-4e7e-be1b-e74001ae8225"
      },
      "outputs": [
        {
          "data": {
            "text/html": [
              "\n",
              "  <div id=\"df-acda7ca0-e271-49a9-af2b-8029de5a2634\">\n",
              "    <div class=\"colab-df-container\">\n",
              "      <div>\n",
              "<style scoped>\n",
              "    .dataframe tbody tr th:only-of-type {\n",
              "        vertical-align: middle;\n",
              "    }\n",
              "\n",
              "    .dataframe tbody tr th {\n",
              "        vertical-align: top;\n",
              "    }\n",
              "\n",
              "    .dataframe thead th {\n",
              "        text-align: right;\n",
              "    }\n",
              "</style>\n",
              "<table border=\"1\" class=\"dataframe\">\n",
              "  <thead>\n",
              "    <tr style=\"text-align: right;\">\n",
              "      <th></th>\n",
              "      <th>total_sells</th>\n",
              "    </tr>\n",
              "    <tr>\n",
              "      <th>date</th>\n",
              "      <th></th>\n",
              "    </tr>\n",
              "  </thead>\n",
              "  <tbody>\n",
              "    <tr>\n",
              "      <th>2011-01-29</th>\n",
              "      <td>36041661.48</td>\n",
              "    </tr>\n",
              "    <tr>\n",
              "      <th>2011-01-30</th>\n",
              "      <td>32232257.07</td>\n",
              "    </tr>\n",
              "    <tr>\n",
              "      <th>2011-01-31</th>\n",
              "      <td>19527808.56</td>\n",
              "    </tr>\n",
              "  </tbody>\n",
              "</table>\n",
              "</div>\n",
              "      <button class=\"colab-df-convert\" onclick=\"convertToInteractive('df-acda7ca0-e271-49a9-af2b-8029de5a2634')\"\n",
              "              title=\"Convert this dataframe to an interactive table.\"\n",
              "              style=\"display:none;\">\n",
              "        \n",
              "  <svg xmlns=\"http://www.w3.org/2000/svg\" height=\"24px\"viewBox=\"0 0 24 24\"\n",
              "       width=\"24px\">\n",
              "    <path d=\"M0 0h24v24H0V0z\" fill=\"none\"/>\n",
              "    <path d=\"M18.56 5.44l.94 2.06.94-2.06 2.06-.94-2.06-.94-.94-2.06-.94 2.06-2.06.94zm-11 1L8.5 8.5l.94-2.06 2.06-.94-2.06-.94L8.5 2.5l-.94 2.06-2.06.94zm10 10l.94 2.06.94-2.06 2.06-.94-2.06-.94-.94-2.06-.94 2.06-2.06.94z\"/><path d=\"M17.41 7.96l-1.37-1.37c-.4-.4-.92-.59-1.43-.59-.52 0-1.04.2-1.43.59L10.3 9.45l-7.72 7.72c-.78.78-.78 2.05 0 2.83L4 21.41c.39.39.9.59 1.41.59.51 0 1.02-.2 1.41-.59l7.78-7.78 2.81-2.81c.8-.78.8-2.07 0-2.86zM5.41 20L4 18.59l7.72-7.72 1.47 1.35L5.41 20z\"/>\n",
              "  </svg>\n",
              "      </button>\n",
              "      \n",
              "  <style>\n",
              "    .colab-df-container {\n",
              "      display:flex;\n",
              "      flex-wrap:wrap;\n",
              "      gap: 12px;\n",
              "    }\n",
              "\n",
              "    .colab-df-convert {\n",
              "      background-color: #E8F0FE;\n",
              "      border: none;\n",
              "      border-radius: 50%;\n",
              "      cursor: pointer;\n",
              "      display: none;\n",
              "      fill: #1967D2;\n",
              "      height: 32px;\n",
              "      padding: 0 0 0 0;\n",
              "      width: 32px;\n",
              "    }\n",
              "\n",
              "    .colab-df-convert:hover {\n",
              "      background-color: #E2EBFA;\n",
              "      box-shadow: 0px 1px 2px rgba(60, 64, 67, 0.3), 0px 1px 3px 1px rgba(60, 64, 67, 0.15);\n",
              "      fill: #174EA6;\n",
              "    }\n",
              "\n",
              "    [theme=dark] .colab-df-convert {\n",
              "      background-color: #3B4455;\n",
              "      fill: #D2E3FC;\n",
              "    }\n",
              "\n",
              "    [theme=dark] .colab-df-convert:hover {\n",
              "      background-color: #434B5C;\n",
              "      box-shadow: 0px 1px 3px 1px rgba(0, 0, 0, 0.15);\n",
              "      filter: drop-shadow(0px 1px 2px rgba(0, 0, 0, 0.3));\n",
              "      fill: #FFFFFF;\n",
              "    }\n",
              "  </style>\n",
              "\n",
              "      <script>\n",
              "        const buttonEl =\n",
              "          document.querySelector('#df-acda7ca0-e271-49a9-af2b-8029de5a2634 button.colab-df-convert');\n",
              "        buttonEl.style.display =\n",
              "          google.colab.kernel.accessAllowed ? 'block' : 'none';\n",
              "\n",
              "        async function convertToInteractive(key) {\n",
              "          const element = document.querySelector('#df-acda7ca0-e271-49a9-af2b-8029de5a2634');\n",
              "          const dataTable =\n",
              "            await google.colab.kernel.invokeFunction('convertToInteractive',\n",
              "                                                     [key], {});\n",
              "          if (!dataTable) return;\n",
              "\n",
              "          const docLinkHtml = 'Like what you see? Visit the ' +\n",
              "            '<a target=\"_blank\" href=https://colab.research.google.com/notebooks/data_table.ipynb>data table notebook</a>'\n",
              "            + ' to learn more about interactive tables.';\n",
              "          element.innerHTML = '';\n",
              "          dataTable['output_type'] = 'display_data';\n",
              "          await google.colab.output.renderOutput(dataTable, element);\n",
              "          const docLink = document.createElement('div');\n",
              "          docLink.innerHTML = docLinkHtml;\n",
              "          element.appendChild(docLink);\n",
              "        }\n",
              "      </script>\n",
              "    </div>\n",
              "  </div>\n",
              "  "
            ],
            "text/plain": [
              "            total_sells\n",
              "date                   \n",
              "2011-01-29  36041661.48\n",
              "2011-01-30  32232257.07\n",
              "2011-01-31  19527808.56"
            ]
          },
          "execution_count": 6,
          "metadata": {},
          "output_type": "execute_result"
        }
      ],
      "source": [
        "df_foods = df.query(\"cat_id == 'FOODS'\").loc[:, [\"date\", \"total_sells\"]].set_index(\"date\")\n",
        "df_foods.head(3)"
      ]
    },
    {
      "cell_type": "code",
      "execution_count": 7,
      "metadata": {
        "colab": {
          "base_uri": "https://localhost:8080/",
          "height": 237
        },
        "id": "3luDvAv2kGgB",
        "outputId": "8157de03-7a92-4112-dbc4-38d02638e92a"
      },
      "outputs": [
        {
          "data": {
            "text/html": [
              "\n",
              "  <div id=\"df-07c708be-e318-4c8d-b865-316302a0e3ff\">\n",
              "    <div class=\"colab-df-container\">\n",
              "      <div>\n",
              "<style scoped>\n",
              "    .dataframe tbody tr th:only-of-type {\n",
              "        vertical-align: middle;\n",
              "    }\n",
              "\n",
              "    .dataframe tbody tr th {\n",
              "        vertical-align: top;\n",
              "    }\n",
              "\n",
              "    .dataframe thead th {\n",
              "        text-align: right;\n",
              "    }\n",
              "</style>\n",
              "<table border=\"1\" class=\"dataframe\">\n",
              "  <thead>\n",
              "    <tr style=\"text-align: right;\">\n",
              "      <th></th>\n",
              "      <th>total_sells</th>\n",
              "    </tr>\n",
              "    <tr>\n",
              "      <th>date</th>\n",
              "      <th></th>\n",
              "    </tr>\n",
              "  </thead>\n",
              "  <tbody>\n",
              "    <tr>\n",
              "      <th>2011-01-29</th>\n",
              "      <td>36041661.48</td>\n",
              "    </tr>\n",
              "    <tr>\n",
              "      <th>2011-01-30</th>\n",
              "      <td>32232257.07</td>\n",
              "    </tr>\n",
              "    <tr>\n",
              "      <th>2011-01-31</th>\n",
              "      <td>19527808.56</td>\n",
              "    </tr>\n",
              "    <tr>\n",
              "      <th>2011-02-01</th>\n",
              "      <td>22887926.52</td>\n",
              "    </tr>\n",
              "    <tr>\n",
              "      <th>2011-02-02</th>\n",
              "      <td>19278399.79</td>\n",
              "    </tr>\n",
              "  </tbody>\n",
              "</table>\n",
              "</div>\n",
              "      <button class=\"colab-df-convert\" onclick=\"convertToInteractive('df-07c708be-e318-4c8d-b865-316302a0e3ff')\"\n",
              "              title=\"Convert this dataframe to an interactive table.\"\n",
              "              style=\"display:none;\">\n",
              "        \n",
              "  <svg xmlns=\"http://www.w3.org/2000/svg\" height=\"24px\"viewBox=\"0 0 24 24\"\n",
              "       width=\"24px\">\n",
              "    <path d=\"M0 0h24v24H0V0z\" fill=\"none\"/>\n",
              "    <path d=\"M18.56 5.44l.94 2.06.94-2.06 2.06-.94-2.06-.94-.94-2.06-.94 2.06-2.06.94zm-11 1L8.5 8.5l.94-2.06 2.06-.94-2.06-.94L8.5 2.5l-.94 2.06-2.06.94zm10 10l.94 2.06.94-2.06 2.06-.94-2.06-.94-.94-2.06-.94 2.06-2.06.94z\"/><path d=\"M17.41 7.96l-1.37-1.37c-.4-.4-.92-.59-1.43-.59-.52 0-1.04.2-1.43.59L10.3 9.45l-7.72 7.72c-.78.78-.78 2.05 0 2.83L4 21.41c.39.39.9.59 1.41.59.51 0 1.02-.2 1.41-.59l7.78-7.78 2.81-2.81c.8-.78.8-2.07 0-2.86zM5.41 20L4 18.59l7.72-7.72 1.47 1.35L5.41 20z\"/>\n",
              "  </svg>\n",
              "      </button>\n",
              "      \n",
              "  <style>\n",
              "    .colab-df-container {\n",
              "      display:flex;\n",
              "      flex-wrap:wrap;\n",
              "      gap: 12px;\n",
              "    }\n",
              "\n",
              "    .colab-df-convert {\n",
              "      background-color: #E8F0FE;\n",
              "      border: none;\n",
              "      border-radius: 50%;\n",
              "      cursor: pointer;\n",
              "      display: none;\n",
              "      fill: #1967D2;\n",
              "      height: 32px;\n",
              "      padding: 0 0 0 0;\n",
              "      width: 32px;\n",
              "    }\n",
              "\n",
              "    .colab-df-convert:hover {\n",
              "      background-color: #E2EBFA;\n",
              "      box-shadow: 0px 1px 2px rgba(60, 64, 67, 0.3), 0px 1px 3px 1px rgba(60, 64, 67, 0.15);\n",
              "      fill: #174EA6;\n",
              "    }\n",
              "\n",
              "    [theme=dark] .colab-df-convert {\n",
              "      background-color: #3B4455;\n",
              "      fill: #D2E3FC;\n",
              "    }\n",
              "\n",
              "    [theme=dark] .colab-df-convert:hover {\n",
              "      background-color: #434B5C;\n",
              "      box-shadow: 0px 1px 3px 1px rgba(0, 0, 0, 0.15);\n",
              "      filter: drop-shadow(0px 1px 2px rgba(0, 0, 0, 0.3));\n",
              "      fill: #FFFFFF;\n",
              "    }\n",
              "  </style>\n",
              "\n",
              "      <script>\n",
              "        const buttonEl =\n",
              "          document.querySelector('#df-07c708be-e318-4c8d-b865-316302a0e3ff button.colab-df-convert');\n",
              "        buttonEl.style.display =\n",
              "          google.colab.kernel.accessAllowed ? 'block' : 'none';\n",
              "\n",
              "        async function convertToInteractive(key) {\n",
              "          const element = document.querySelector('#df-07c708be-e318-4c8d-b865-316302a0e3ff');\n",
              "          const dataTable =\n",
              "            await google.colab.kernel.invokeFunction('convertToInteractive',\n",
              "                                                     [key], {});\n",
              "          if (!dataTable) return;\n",
              "\n",
              "          const docLinkHtml = 'Like what you see? Visit the ' +\n",
              "            '<a target=\"_blank\" href=https://colab.research.google.com/notebooks/data_table.ipynb>data table notebook</a>'\n",
              "            + ' to learn more about interactive tables.';\n",
              "          element.innerHTML = '';\n",
              "          dataTable['output_type'] = 'display_data';\n",
              "          await google.colab.output.renderOutput(dataTable, element);\n",
              "          const docLink = document.createElement('div');\n",
              "          docLink.innerHTML = docLinkHtml;\n",
              "          element.appendChild(docLink);\n",
              "        }\n",
              "      </script>\n",
              "    </div>\n",
              "  </div>\n",
              "  "
            ],
            "text/plain": [
              "            total_sells\n",
              "date                   \n",
              "2011-01-29  36041661.48\n",
              "2011-01-30  32232257.07\n",
              "2011-01-31  19527808.56\n",
              "2011-02-01  22887926.52\n",
              "2011-02-02  19278399.79"
            ]
          },
          "execution_count": 7,
          "metadata": {},
          "output_type": "execute_result"
        }
      ],
      "source": [
        "# Se utiliza la librería kats para identificar e interpolar los outiliers\n",
        "ts = TimeSeriesData(df.query(\"cat_id == 'FOODS'\").loc[:, [\"date\", \"total_sells\"]].rename(columns={\"date\":\"time\"}))\n",
        "outlier_detector = OutlierDetector(ts, \"additive\")\n",
        "outlier_detector.detector()\n",
        "outliers = outlier_detector.outliers\n",
        "ts_day_outliers_interpolated = outlier_detector.remover(interpolate=True)\n",
        "\n",
        "df_foods = ts_day_outliers_interpolated.to_dataframe()\n",
        "\n",
        "df_foods.columns =[\"date\", \"total_sells\"]\n",
        "df_foods.set_index(\"date\", inplace=True)\n",
        "df_foods.sort_index()\n",
        "df_foods.sort_index(inplace=True)\n",
        "df_foods.head()"
      ]
    },
    {
      "cell_type": "code",
      "execution_count": 8,
      "metadata": {
        "colab": {
          "base_uri": "https://localhost:8080/",
          "height": 112
        },
        "id": "jFIowiCJkQnO",
        "outputId": "9649d28a-58bc-4c76-c33b-02a9020f0660"
      },
      "outputs": [
        {
          "data": {
            "text/html": [
              "\n",
              "  <div id=\"df-fdccc300-13fe-42d2-b54e-09b265b073f3\">\n",
              "    <div class=\"colab-df-container\">\n",
              "      <div>\n",
              "<style scoped>\n",
              "    .dataframe tbody tr th:only-of-type {\n",
              "        vertical-align: middle;\n",
              "    }\n",
              "\n",
              "    .dataframe tbody tr th {\n",
              "        vertical-align: top;\n",
              "    }\n",
              "\n",
              "    .dataframe thead th {\n",
              "        text-align: right;\n",
              "    }\n",
              "</style>\n",
              "<table border=\"1\" class=\"dataframe\">\n",
              "  <thead>\n",
              "    <tr style=\"text-align: right;\">\n",
              "      <th></th>\n",
              "      <th>total_sells</th>\n",
              "    </tr>\n",
              "    <tr>\n",
              "      <th>date</th>\n",
              "      <th></th>\n",
              "    </tr>\n",
              "  </thead>\n",
              "  <tbody>\n",
              "    <tr>\n",
              "      <th>2012-12-25</th>\n",
              "      <td>81.18</td>\n",
              "    </tr>\n",
              "  </tbody>\n",
              "</table>\n",
              "</div>\n",
              "      <button class=\"colab-df-convert\" onclick=\"convertToInteractive('df-fdccc300-13fe-42d2-b54e-09b265b073f3')\"\n",
              "              title=\"Convert this dataframe to an interactive table.\"\n",
              "              style=\"display:none;\">\n",
              "        \n",
              "  <svg xmlns=\"http://www.w3.org/2000/svg\" height=\"24px\"viewBox=\"0 0 24 24\"\n",
              "       width=\"24px\">\n",
              "    <path d=\"M0 0h24v24H0V0z\" fill=\"none\"/>\n",
              "    <path d=\"M18.56 5.44l.94 2.06.94-2.06 2.06-.94-2.06-.94-.94-2.06-.94 2.06-2.06.94zm-11 1L8.5 8.5l.94-2.06 2.06-.94-2.06-.94L8.5 2.5l-.94 2.06-2.06.94zm10 10l.94 2.06.94-2.06 2.06-.94-2.06-.94-.94-2.06-.94 2.06-2.06.94z\"/><path d=\"M17.41 7.96l-1.37-1.37c-.4-.4-.92-.59-1.43-.59-.52 0-1.04.2-1.43.59L10.3 9.45l-7.72 7.72c-.78.78-.78 2.05 0 2.83L4 21.41c.39.39.9.59 1.41.59.51 0 1.02-.2 1.41-.59l7.78-7.78 2.81-2.81c.8-.78.8-2.07 0-2.86zM5.41 20L4 18.59l7.72-7.72 1.47 1.35L5.41 20z\"/>\n",
              "  </svg>\n",
              "      </button>\n",
              "      \n",
              "  <style>\n",
              "    .colab-df-container {\n",
              "      display:flex;\n",
              "      flex-wrap:wrap;\n",
              "      gap: 12px;\n",
              "    }\n",
              "\n",
              "    .colab-df-convert {\n",
              "      background-color: #E8F0FE;\n",
              "      border: none;\n",
              "      border-radius: 50%;\n",
              "      cursor: pointer;\n",
              "      display: none;\n",
              "      fill: #1967D2;\n",
              "      height: 32px;\n",
              "      padding: 0 0 0 0;\n",
              "      width: 32px;\n",
              "    }\n",
              "\n",
              "    .colab-df-convert:hover {\n",
              "      background-color: #E2EBFA;\n",
              "      box-shadow: 0px 1px 2px rgba(60, 64, 67, 0.3), 0px 1px 3px 1px rgba(60, 64, 67, 0.15);\n",
              "      fill: #174EA6;\n",
              "    }\n",
              "\n",
              "    [theme=dark] .colab-df-convert {\n",
              "      background-color: #3B4455;\n",
              "      fill: #D2E3FC;\n",
              "    }\n",
              "\n",
              "    [theme=dark] .colab-df-convert:hover {\n",
              "      background-color: #434B5C;\n",
              "      box-shadow: 0px 1px 3px 1px rgba(0, 0, 0, 0.15);\n",
              "      filter: drop-shadow(0px 1px 2px rgba(0, 0, 0, 0.3));\n",
              "      fill: #FFFFFF;\n",
              "    }\n",
              "  </style>\n",
              "\n",
              "      <script>\n",
              "        const buttonEl =\n",
              "          document.querySelector('#df-fdccc300-13fe-42d2-b54e-09b265b073f3 button.colab-df-convert');\n",
              "        buttonEl.style.display =\n",
              "          google.colab.kernel.accessAllowed ? 'block' : 'none';\n",
              "\n",
              "        async function convertToInteractive(key) {\n",
              "          const element = document.querySelector('#df-fdccc300-13fe-42d2-b54e-09b265b073f3');\n",
              "          const dataTable =\n",
              "            await google.colab.kernel.invokeFunction('convertToInteractive',\n",
              "                                                     [key], {});\n",
              "          if (!dataTable) return;\n",
              "\n",
              "          const docLinkHtml = 'Like what you see? Visit the ' +\n",
              "            '<a target=\"_blank\" href=https://colab.research.google.com/notebooks/data_table.ipynb>data table notebook</a>'\n",
              "            + ' to learn more about interactive tables.';\n",
              "          element.innerHTML = '';\n",
              "          dataTable['output_type'] = 'display_data';\n",
              "          await google.colab.output.renderOutput(dataTable, element);\n",
              "          const docLink = document.createElement('div');\n",
              "          docLink.innerHTML = docLinkHtml;\n",
              "          element.appendChild(docLink);\n",
              "        }\n",
              "      </script>\n",
              "    </div>\n",
              "  </div>\n",
              "  "
            ],
            "text/plain": [
              "            total_sells\n",
              "date                   \n",
              "2012-12-25        81.18"
            ]
          },
          "execution_count": 8,
          "metadata": {},
          "output_type": "execute_result"
        }
      ],
      "source": [
        "ind = df_foods.total_sells < 1000\n",
        "df_foods[ind] "
      ]
    },
    {
      "cell_type": "code",
      "execution_count": 9,
      "metadata": {
        "id": "r7FU9FApWq64"
      },
      "outputs": [],
      "source": [
        "df_foods.loc[ind, \"total_sells\"] = np.nan"
      ]
    },
    {
      "cell_type": "code",
      "execution_count": 10,
      "metadata": {
        "colab": {
          "base_uri": "https://localhost:8080/"
        },
        "id": "ISpLmV3dY2-X",
        "outputId": "f708479b-e2a0-43c1-8c84-3bb2b0402978"
      },
      "outputs": [
        {
          "data": {
            "text/plain": [
              "total_sells    float64\n",
              "dtype: object"
            ]
          },
          "execution_count": 10,
          "metadata": {},
          "output_type": "execute_result"
        }
      ],
      "source": [
        "df_foods.dtypes"
      ]
    },
    {
      "cell_type": "code",
      "execution_count": 11,
      "metadata": {
        "id": "K2OXstYCW1Se"
      },
      "outputs": [],
      "source": [
        "df_foods.interpolate(inplace=True)"
      ]
    },
    {
      "cell_type": "code",
      "execution_count": 12,
      "metadata": {
        "id": "G5lSE1QLWIbi"
      },
      "outputs": [],
      "source": [
        "#df_foods.loc[ind, \"total_sells\"] = df_foods.median().values[0]"
      ]
    },
    {
      "cell_type": "code",
      "execution_count": 13,
      "metadata": {
        "id": "SDiDgU7fkVyT"
      },
      "outputs": [],
      "source": [
        "df_foods[\"log\"] = np.log(df_foods.total_sells.values)\n",
        "df_foods[\"diff_log\"] = df_foods.log.diff()"
      ]
    },
    {
      "cell_type": "code",
      "execution_count": 14,
      "metadata": {
        "id": "7JEKb0bEkaNF"
      },
      "outputs": [],
      "source": [
        "df_foods.dropna(inplace=True)"
      ]
    },
    {
      "cell_type": "code",
      "execution_count": 15,
      "metadata": {
        "colab": {
          "base_uri": "https://localhost:8080/",
          "height": 237
        },
        "id": "7DZevZFtk8AZ",
        "outputId": "4c16a73d-cba4-46b7-9ea3-951f93eca9d0"
      },
      "outputs": [
        {
          "data": {
            "text/html": [
              "\n",
              "  <div id=\"df-39a955e5-5eb1-4a5a-a84c-af63a966913e\">\n",
              "    <div class=\"colab-df-container\">\n",
              "      <div>\n",
              "<style scoped>\n",
              "    .dataframe tbody tr th:only-of-type {\n",
              "        vertical-align: middle;\n",
              "    }\n",
              "\n",
              "    .dataframe tbody tr th {\n",
              "        vertical-align: top;\n",
              "    }\n",
              "\n",
              "    .dataframe thead th {\n",
              "        text-align: right;\n",
              "    }\n",
              "</style>\n",
              "<table border=\"1\" class=\"dataframe\">\n",
              "  <thead>\n",
              "    <tr style=\"text-align: right;\">\n",
              "      <th></th>\n",
              "      <th>total_sells</th>\n",
              "      <th>log</th>\n",
              "      <th>diff_log</th>\n",
              "    </tr>\n",
              "    <tr>\n",
              "      <th>date</th>\n",
              "      <th></th>\n",
              "      <th></th>\n",
              "      <th></th>\n",
              "    </tr>\n",
              "  </thead>\n",
              "  <tbody>\n",
              "    <tr>\n",
              "      <th>2011-01-30</th>\n",
              "      <td>32232257.07</td>\n",
              "      <td>17.288478</td>\n",
              "      <td>-0.111708</td>\n",
              "    </tr>\n",
              "    <tr>\n",
              "      <th>2011-01-31</th>\n",
              "      <td>19527808.56</td>\n",
              "      <td>16.787350</td>\n",
              "      <td>-0.501128</td>\n",
              "    </tr>\n",
              "    <tr>\n",
              "      <th>2011-02-01</th>\n",
              "      <td>22887926.52</td>\n",
              "      <td>16.946120</td>\n",
              "      <td>0.158770</td>\n",
              "    </tr>\n",
              "    <tr>\n",
              "      <th>2011-02-02</th>\n",
              "      <td>19278399.79</td>\n",
              "      <td>16.774496</td>\n",
              "      <td>-0.171624</td>\n",
              "    </tr>\n",
              "    <tr>\n",
              "      <th>2011-02-03</th>\n",
              "      <td>24558648.01</td>\n",
              "      <td>17.016575</td>\n",
              "      <td>0.242079</td>\n",
              "    </tr>\n",
              "  </tbody>\n",
              "</table>\n",
              "</div>\n",
              "      <button class=\"colab-df-convert\" onclick=\"convertToInteractive('df-39a955e5-5eb1-4a5a-a84c-af63a966913e')\"\n",
              "              title=\"Convert this dataframe to an interactive table.\"\n",
              "              style=\"display:none;\">\n",
              "        \n",
              "  <svg xmlns=\"http://www.w3.org/2000/svg\" height=\"24px\"viewBox=\"0 0 24 24\"\n",
              "       width=\"24px\">\n",
              "    <path d=\"M0 0h24v24H0V0z\" fill=\"none\"/>\n",
              "    <path d=\"M18.56 5.44l.94 2.06.94-2.06 2.06-.94-2.06-.94-.94-2.06-.94 2.06-2.06.94zm-11 1L8.5 8.5l.94-2.06 2.06-.94-2.06-.94L8.5 2.5l-.94 2.06-2.06.94zm10 10l.94 2.06.94-2.06 2.06-.94-2.06-.94-.94-2.06-.94 2.06-2.06.94z\"/><path d=\"M17.41 7.96l-1.37-1.37c-.4-.4-.92-.59-1.43-.59-.52 0-1.04.2-1.43.59L10.3 9.45l-7.72 7.72c-.78.78-.78 2.05 0 2.83L4 21.41c.39.39.9.59 1.41.59.51 0 1.02-.2 1.41-.59l7.78-7.78 2.81-2.81c.8-.78.8-2.07 0-2.86zM5.41 20L4 18.59l7.72-7.72 1.47 1.35L5.41 20z\"/>\n",
              "  </svg>\n",
              "      </button>\n",
              "      \n",
              "  <style>\n",
              "    .colab-df-container {\n",
              "      display:flex;\n",
              "      flex-wrap:wrap;\n",
              "      gap: 12px;\n",
              "    }\n",
              "\n",
              "    .colab-df-convert {\n",
              "      background-color: #E8F0FE;\n",
              "      border: none;\n",
              "      border-radius: 50%;\n",
              "      cursor: pointer;\n",
              "      display: none;\n",
              "      fill: #1967D2;\n",
              "      height: 32px;\n",
              "      padding: 0 0 0 0;\n",
              "      width: 32px;\n",
              "    }\n",
              "\n",
              "    .colab-df-convert:hover {\n",
              "      background-color: #E2EBFA;\n",
              "      box-shadow: 0px 1px 2px rgba(60, 64, 67, 0.3), 0px 1px 3px 1px rgba(60, 64, 67, 0.15);\n",
              "      fill: #174EA6;\n",
              "    }\n",
              "\n",
              "    [theme=dark] .colab-df-convert {\n",
              "      background-color: #3B4455;\n",
              "      fill: #D2E3FC;\n",
              "    }\n",
              "\n",
              "    [theme=dark] .colab-df-convert:hover {\n",
              "      background-color: #434B5C;\n",
              "      box-shadow: 0px 1px 3px 1px rgba(0, 0, 0, 0.15);\n",
              "      filter: drop-shadow(0px 1px 2px rgba(0, 0, 0, 0.3));\n",
              "      fill: #FFFFFF;\n",
              "    }\n",
              "  </style>\n",
              "\n",
              "      <script>\n",
              "        const buttonEl =\n",
              "          document.querySelector('#df-39a955e5-5eb1-4a5a-a84c-af63a966913e button.colab-df-convert');\n",
              "        buttonEl.style.display =\n",
              "          google.colab.kernel.accessAllowed ? 'block' : 'none';\n",
              "\n",
              "        async function convertToInteractive(key) {\n",
              "          const element = document.querySelector('#df-39a955e5-5eb1-4a5a-a84c-af63a966913e');\n",
              "          const dataTable =\n",
              "            await google.colab.kernel.invokeFunction('convertToInteractive',\n",
              "                                                     [key], {});\n",
              "          if (!dataTable) return;\n",
              "\n",
              "          const docLinkHtml = 'Like what you see? Visit the ' +\n",
              "            '<a target=\"_blank\" href=https://colab.research.google.com/notebooks/data_table.ipynb>data table notebook</a>'\n",
              "            + ' to learn more about interactive tables.';\n",
              "          element.innerHTML = '';\n",
              "          dataTable['output_type'] = 'display_data';\n",
              "          await google.colab.output.renderOutput(dataTable, element);\n",
              "          const docLink = document.createElement('div');\n",
              "          docLink.innerHTML = docLinkHtml;\n",
              "          element.appendChild(docLink);\n",
              "        }\n",
              "      </script>\n",
              "    </div>\n",
              "  </div>\n",
              "  "
            ],
            "text/plain": [
              "            total_sells        log  diff_log\n",
              "date                                        \n",
              "2011-01-30  32232257.07  17.288478 -0.111708\n",
              "2011-01-31  19527808.56  16.787350 -0.501128\n",
              "2011-02-01  22887926.52  16.946120  0.158770\n",
              "2011-02-02  19278399.79  16.774496 -0.171624\n",
              "2011-02-03  24558648.01  17.016575  0.242079"
            ]
          },
          "execution_count": 15,
          "metadata": {},
          "output_type": "execute_result"
        }
      ],
      "source": [
        "df_foods.head()"
      ]
    },
    {
      "cell_type": "code",
      "execution_count": 16,
      "metadata": {
        "colab": {
          "base_uri": "https://localhost:8080/"
        },
        "id": "9qzbi0allpos",
        "outputId": "a991e92d-a1f0-4aec-de7d-941bd1a33f46"
      },
      "outputs": [
        {
          "data": {
            "text/plain": [
              "(1880, 3)"
            ]
          },
          "execution_count": 16,
          "metadata": {},
          "output_type": "execute_result"
        }
      ],
      "source": [
        "df_foods_ori = df_foods\n",
        "df_foods_test_hold = df_foods.iloc[-60:,:]\n",
        "df_foods = df_foods.iloc[:-60,:]\n",
        "df_foods.shape"
      ]
    },
    {
      "cell_type": "code",
      "execution_count": 17,
      "metadata": {
        "colab": {
          "base_uri": "https://localhost:8080/"
        },
        "id": "yI15C6S3khr6",
        "outputId": "9840e9db-648d-454f-fcb9-098248469cb3"
      },
      "outputs": [
        {
          "name": "stdout",
          "output_type": "stream",
          "text": [
            "(1880, 1)\n"
          ]
        }
      ],
      "source": [
        "data = df_foods.total_sells.copy()\n",
        "\n",
        "# Get the number of rows in the data\n",
        "nrows = df_foods.shape[0]\n",
        "\n",
        "# Convert the data to numpy values\n",
        "np_data_unscaled = df_foods.total_sells.values\n",
        "np_data_unscaled = np.reshape(np_data_unscaled, (nrows, -1))\n",
        "print(np_data_unscaled.shape)\n",
        "\n",
        "# Transform the data by scaling each feature to a range between 0 and 1\n",
        "scaler = StandardScaler()\n",
        "np_data_scaled = scaler.fit_transform(np_data_unscaled)\n",
        "\n",
        "# Set the sequence length - this is the timeframe used to make a single prediction\n",
        "sequence_length = 180\n",
        "\n",
        "# Prediction Index\n",
        "index_Close = 0\n",
        "\n",
        "# Split the training data into train and train data sets\n",
        "# As a first step, we get the number of rows to train the model \n",
        "train_data_len = math.ceil(np_data_scaled.shape[0] * 0.99)\n",
        "\n",
        "# Create the training and test data\n",
        "train_data = np_data_scaled[:train_data_len, :]\n",
        "test_data = np_data_scaled[train_data_len - sequence_length:, :]\n"
      ]
    },
    {
      "cell_type": "code",
      "execution_count": 18,
      "metadata": {
        "colab": {
          "base_uri": "https://localhost:8080/"
        },
        "id": "8pZRnKoYldzU",
        "outputId": "93b8ed02-1529-497e-f4da-8225082d2c5d"
      },
      "outputs": [
        {
          "name": "stdout",
          "output_type": "stream",
          "text": [
            "(1682, 180, 1) (1682,)\n",
            "(18, 180, 1) (18,)\n",
            "2.6373991891798894\n",
            "2.6373991891798894\n"
          ]
        }
      ],
      "source": [
        "# The RNN needs data with the format of [samples, time steps, features]\n",
        "# Here, we create N samples, sequence_length time steps per sample, and 6 features\n",
        "def partition_dataset(sequence_length, data):\n",
        "    x, y = [], []\n",
        "    data_len = data.shape[0]\n",
        "    for i in range(sequence_length, data_len):\n",
        "        x.append(data[i-sequence_length:i,:]) #contains sequence_length values 0-sequence_length * columsn\n",
        "        y.append(data[i, index_Close]) #contains the prediction values for validation (3rd column = Close),  for single-step prediction\n",
        "    \n",
        "    # Convert the x and y to numpy arrays\n",
        "    x = np.array(x)\n",
        "    y = np.array(y)\n",
        "    return x, y\n",
        "\n",
        "\n",
        "# Generate training data and test data\n",
        "x_train, y_train = partition_dataset(sequence_length, train_data)\n",
        "x_test, y_test = partition_dataset(sequence_length, test_data)\n",
        "\n",
        "# Print the shapes: the result is: (rows, training_sequence, features) (prediction value, )\n",
        "print(x_train.shape, y_train.shape)\n",
        "print(x_test.shape, y_test.shape)\n",
        "\n",
        "# Validate that the prediction value and the input match up\n",
        "# The last close price of the second input sample should equal the first prediction value\n",
        "print(x_test[1][sequence_length-1][index_Close])\n",
        "print(y_test[0])"
      ]
    },
    {
      "cell_type": "code",
      "execution_count": 19,
      "metadata": {
        "id": "omRimf2amVXY"
      },
      "outputs": [],
      "source": [
        "epochs = 21; batch_size = 1;\n",
        "\n",
        "# Model with n_neurons = inputshape Timestamps, each with x_train.shape[2] variables\n",
        "n_neurons = x_train.shape[1] * x_train.shape[2]\n",
        "model = Sequential()\n",
        "model.add(LSTM(n_neurons, return_sequences=True, input_shape=(x_train.shape[1], 1)))\n",
        "model.add(LSTM(n_neurons, return_sequences=False))\n",
        "model.add(Dense(5))\n",
        "model.add(Dense(1))\n",
        "model.compile(optimizer=\"adam\", loss=\"mean_squared_error\")"
      ]
    },
    {
      "cell_type": "code",
      "execution_count": 20,
      "metadata": {
        "colab": {
          "base_uri": "https://localhost:8080/"
        },
        "id": "PVo2F5xlmadT",
        "outputId": "be3b5da6-a72d-4933-aa38-f4362f8e9f3f"
      },
      "outputs": [
        {
          "name": "stdout",
          "output_type": "stream",
          "text": [
            "Epoch 1/21\n",
            "1682/1682 [==============================] - 25s 12ms/step - loss: 0.3518\n",
            "Epoch 2/21\n",
            "1682/1682 [==============================] - 20s 12ms/step - loss: 0.1786\n",
            "Epoch 3/21\n",
            "1682/1682 [==============================] - 20s 12ms/step - loss: 0.1635\n",
            "Epoch 4/21\n",
            "1682/1682 [==============================] - 20s 12ms/step - loss: 0.1453\n",
            "Epoch 5/21\n",
            "1682/1682 [==============================] - 20s 12ms/step - loss: 0.1467\n",
            "Epoch 6/21\n",
            "1682/1682 [==============================] - 20s 12ms/step - loss: 0.1359\n",
            "Epoch 7/21\n",
            "1682/1682 [==============================] - 20s 12ms/step - loss: 0.1264\n",
            "Epoch 8/21\n",
            "1682/1682 [==============================] - 20s 12ms/step - loss: 0.1210\n",
            "Epoch 9/21\n",
            "1682/1682 [==============================] - 20s 12ms/step - loss: 0.1288\n",
            "Epoch 10/21\n",
            "1682/1682 [==============================] - 20s 12ms/step - loss: 0.1154\n",
            "Epoch 11/21\n",
            "1682/1682 [==============================] - 20s 12ms/step - loss: 0.1142\n",
            "Epoch 12/21\n",
            "1682/1682 [==============================] - 20s 12ms/step - loss: 0.1163\n",
            "Epoch 13/21\n",
            "1682/1682 [==============================] - 21s 12ms/step - loss: 0.1077\n",
            "Epoch 14/21\n",
            "1682/1682 [==============================] - 20s 12ms/step - loss: 0.1184\n",
            "Epoch 15/21\n",
            "1682/1682 [==============================] - 20s 12ms/step - loss: 0.1007\n",
            "Epoch 16/21\n",
            "1682/1682 [==============================] - 20s 12ms/step - loss: 0.1007\n",
            "Epoch 17/21\n",
            "1682/1682 [==============================] - 20s 12ms/step - loss: 0.0990\n",
            "Epoch 18/21\n",
            "1682/1682 [==============================] - 20s 12ms/step - loss: 0.1091\n",
            "Epoch 19/21\n",
            "1682/1682 [==============================] - 20s 12ms/step - loss: 0.0958\n",
            "Epoch 20/21\n",
            "1682/1682 [==============================] - 20s 12ms/step - loss: 0.0968\n",
            "Epoch 21/21\n",
            "1682/1682 [==============================] - 20s 12ms/step - loss: 0.0930\n"
          ]
        }
      ],
      "source": [
        "# Train the model\n",
        "history = model.fit(x_train, y_train, batch_size=batch_size, epochs=epochs)"
      ]
    },
    {
      "cell_type": "code",
      "execution_count": 21,
      "metadata": {
        "colab": {
          "base_uri": "https://localhost:8080/"
        },
        "id": "_J3SAJDMm4_E",
        "outputId": "050b313b-b168-4d22-e456-9423eb413752"
      },
      "outputs": [
        {
          "name": "stdout",
          "output_type": "stream",
          "text": [
            "1/1 [==============================] - 1s 960ms/step\n",
            "Median Absolute Error (MAE): 7422153.69\n",
            "Mean Absolute Percentage Error (MAPE): 9.64 %\n",
            "Median Absolute Percentage Error (MDAPE): 8.55 %\n"
          ]
        }
      ],
      "source": [
        "# Reshape the data, so that we get an array with multiple test datasets\n",
        "x_test_np = np.array(x_test)\n",
        "x_test_reshape = np.reshape(x_test_np, (x_test_np.shape[0], x_test_np.shape[1], 1))\n",
        "\n",
        "# Get the predicted values\n",
        "y_pred = model.predict(x_test_reshape)\n",
        "y_pred_unscaled = scaler.inverse_transform(y_pred)\n",
        "y_test_unscaled = scaler.inverse_transform(y_test.reshape(-1, 1))\n",
        "\n",
        "# Mean Absolute Error (MAE)\n",
        "MAE = mean_absolute_error(y_test_unscaled, y_pred_unscaled)\n",
        "print(f'Median Absolute Error (MAE): {np.round(MAE, 2)}')\n",
        "\n",
        "# Mean Absolute Percentage Error (MAPE)\n",
        "MAPE = np.mean((np.abs(np.subtract(y_test_unscaled, y_pred_unscaled)/ y_test_unscaled))) * 100\n",
        "print(f'Mean Absolute Percentage Error (MAPE): {np.round(MAPE, 2)} %')\n",
        "\n",
        "# Median Absolute Percentage Error (MDAPE)\n",
        "MDAPE = np.median((np.abs(np.subtract(y_test_unscaled, y_pred_unscaled)/ y_test_unscaled)) ) * 100\n",
        "print(f'Median Absolute Percentage Error (MDAPE): {np.round(MDAPE, 2)} %')"
      ]
    },
    {
      "cell_type": "code",
      "execution_count": 22,
      "metadata": {
        "colab": {
          "base_uri": "https://localhost:8080/"
        },
        "id": "cZiMxvgpu3ud",
        "outputId": "4cca2ed5-90a5-42f2-bc75-9d4abe496e1c"
      },
      "outputs": [
        {
          "data": {
            "text/plain": [
              "(1682, 180, 1)"
            ]
          },
          "execution_count": 22,
          "metadata": {},
          "output_type": "execute_result"
        }
      ],
      "source": [
        "x_train.shape"
      ]
    },
    {
      "cell_type": "code",
      "execution_count": 23,
      "metadata": {
        "colab": {
          "base_uri": "https://localhost:8080/"
        },
        "id": "hT3bWYFisxGQ",
        "outputId": "6ff9ba38-74b9-4e33-ce71-02f52555e123"
      },
      "outputs": [
        {
          "name": "stderr",
          "output_type": "stream",
          "text": [
            "<ipython-input-23-b0413f6780da>:1: SettingWithCopyWarning: \n",
            "A value is trying to be set on a copy of a slice from a DataFrame.\n",
            "Try using .loc[row_indexer,col_indexer] = value instead\n",
            "\n",
            "See the caveats in the documentation: https://pandas.pydata.org/pandas-docs/stable/user_guide/indexing.html#returning-a-view-versus-a-copy\n",
            "  df_foods[\"y_pred\"] = np.nan\n"
          ]
        }
      ],
      "source": [
        "df_foods[\"y_pred\"] = np.nan"
      ]
    },
    {
      "cell_type": "code",
      "execution_count": 24,
      "metadata": {
        "id": "_1nN_uEXtLYw"
      },
      "outputs": [],
      "source": [
        "y_pred_unscaled = pd.Series(y_pred_unscaled.flatten())"
      ]
    },
    {
      "cell_type": "code",
      "execution_count": 25,
      "metadata": {
        "colab": {
          "base_uri": "https://localhost:8080/"
        },
        "id": "OXCFljpXskK2",
        "outputId": "7b492b21-93d8-47f8-ff5f-37fe93d6085b"
      },
      "outputs": [
        {
          "name": "stderr",
          "output_type": "stream",
          "text": [
            "/usr/local/lib/python3.8/dist-packages/pandas/core/indexing.py:1773: SettingWithCopyWarning: \n",
            "A value is trying to be set on a copy of a slice from a DataFrame.\n",
            "Try using .loc[row_indexer,col_indexer] = value instead\n",
            "\n",
            "See the caveats in the documentation: https://pandas.pydata.org/pandas-docs/stable/user_guide/indexing.html#returning-a-view-versus-a-copy\n",
            "  self._setitem_single_column(ilocs[0], value, pi)\n"
          ]
        }
      ],
      "source": [
        "df_foods.iloc[-y_pred_unscaled.shape[0]:, -1] = y_pred_unscaled"
      ]
    },
    {
      "cell_type": "code",
      "execution_count": 26,
      "metadata": {
        "colab": {
          "base_uri": "https://localhost:8080/",
          "height": 237
        },
        "id": "XAK3-n1msdZ6",
        "outputId": "278dc025-3169-49bc-ae9f-b265e22d36d6"
      },
      "outputs": [
        {
          "data": {
            "text/html": [
              "\n",
              "  <div id=\"df-393ea56e-e787-45f2-a112-6e3051b668be\">\n",
              "    <div class=\"colab-df-container\">\n",
              "      <div>\n",
              "<style scoped>\n",
              "    .dataframe tbody tr th:only-of-type {\n",
              "        vertical-align: middle;\n",
              "    }\n",
              "\n",
              "    .dataframe tbody tr th {\n",
              "        vertical-align: top;\n",
              "    }\n",
              "\n",
              "    .dataframe thead th {\n",
              "        text-align: right;\n",
              "    }\n",
              "</style>\n",
              "<table border=\"1\" class=\"dataframe\">\n",
              "  <thead>\n",
              "    <tr style=\"text-align: right;\">\n",
              "      <th></th>\n",
              "      <th>total_sells</th>\n",
              "      <th>log</th>\n",
              "      <th>diff_log</th>\n",
              "      <th>y_pred</th>\n",
              "    </tr>\n",
              "    <tr>\n",
              "      <th>date</th>\n",
              "      <th></th>\n",
              "      <th></th>\n",
              "      <th></th>\n",
              "      <th></th>\n",
              "    </tr>\n",
              "  </thead>\n",
              "  <tbody>\n",
              "    <tr>\n",
              "      <th>2016-03-19</th>\n",
              "      <td>80225792.35</td>\n",
              "      <td>18.200356</td>\n",
              "      <td>0.155454</td>\n",
              "      <td>92648784.0</td>\n",
              "    </tr>\n",
              "    <tr>\n",
              "      <th>2016-03-20</th>\n",
              "      <td>74614901.82</td>\n",
              "      <td>18.127851</td>\n",
              "      <td>-0.072505</td>\n",
              "      <td>92493984.0</td>\n",
              "    </tr>\n",
              "    <tr>\n",
              "      <th>2016-03-21</th>\n",
              "      <td>67282749.50</td>\n",
              "      <td>18.024414</td>\n",
              "      <td>-0.103436</td>\n",
              "      <td>58288060.0</td>\n",
              "    </tr>\n",
              "    <tr>\n",
              "      <th>2016-03-22</th>\n",
              "      <td>63954099.56</td>\n",
              "      <td>17.973676</td>\n",
              "      <td>-0.050738</td>\n",
              "      <td>55514200.0</td>\n",
              "    </tr>\n",
              "    <tr>\n",
              "      <th>2016-03-23</th>\n",
              "      <td>61200862.74</td>\n",
              "      <td>17.929672</td>\n",
              "      <td>-0.044004</td>\n",
              "      <td>56430636.0</td>\n",
              "    </tr>\n",
              "  </tbody>\n",
              "</table>\n",
              "</div>\n",
              "      <button class=\"colab-df-convert\" onclick=\"convertToInteractive('df-393ea56e-e787-45f2-a112-6e3051b668be')\"\n",
              "              title=\"Convert this dataframe to an interactive table.\"\n",
              "              style=\"display:none;\">\n",
              "        \n",
              "  <svg xmlns=\"http://www.w3.org/2000/svg\" height=\"24px\"viewBox=\"0 0 24 24\"\n",
              "       width=\"24px\">\n",
              "    <path d=\"M0 0h24v24H0V0z\" fill=\"none\"/>\n",
              "    <path d=\"M18.56 5.44l.94 2.06.94-2.06 2.06-.94-2.06-.94-.94-2.06-.94 2.06-2.06.94zm-11 1L8.5 8.5l.94-2.06 2.06-.94-2.06-.94L8.5 2.5l-.94 2.06-2.06.94zm10 10l.94 2.06.94-2.06 2.06-.94-2.06-.94-.94-2.06-.94 2.06-2.06.94z\"/><path d=\"M17.41 7.96l-1.37-1.37c-.4-.4-.92-.59-1.43-.59-.52 0-1.04.2-1.43.59L10.3 9.45l-7.72 7.72c-.78.78-.78 2.05 0 2.83L4 21.41c.39.39.9.59 1.41.59.51 0 1.02-.2 1.41-.59l7.78-7.78 2.81-2.81c.8-.78.8-2.07 0-2.86zM5.41 20L4 18.59l7.72-7.72 1.47 1.35L5.41 20z\"/>\n",
              "  </svg>\n",
              "      </button>\n",
              "      \n",
              "  <style>\n",
              "    .colab-df-container {\n",
              "      display:flex;\n",
              "      flex-wrap:wrap;\n",
              "      gap: 12px;\n",
              "    }\n",
              "\n",
              "    .colab-df-convert {\n",
              "      background-color: #E8F0FE;\n",
              "      border: none;\n",
              "      border-radius: 50%;\n",
              "      cursor: pointer;\n",
              "      display: none;\n",
              "      fill: #1967D2;\n",
              "      height: 32px;\n",
              "      padding: 0 0 0 0;\n",
              "      width: 32px;\n",
              "    }\n",
              "\n",
              "    .colab-df-convert:hover {\n",
              "      background-color: #E2EBFA;\n",
              "      box-shadow: 0px 1px 2px rgba(60, 64, 67, 0.3), 0px 1px 3px 1px rgba(60, 64, 67, 0.15);\n",
              "      fill: #174EA6;\n",
              "    }\n",
              "\n",
              "    [theme=dark] .colab-df-convert {\n",
              "      background-color: #3B4455;\n",
              "      fill: #D2E3FC;\n",
              "    }\n",
              "\n",
              "    [theme=dark] .colab-df-convert:hover {\n",
              "      background-color: #434B5C;\n",
              "      box-shadow: 0px 1px 3px 1px rgba(0, 0, 0, 0.15);\n",
              "      filter: drop-shadow(0px 1px 2px rgba(0, 0, 0, 0.3));\n",
              "      fill: #FFFFFF;\n",
              "    }\n",
              "  </style>\n",
              "\n",
              "      <script>\n",
              "        const buttonEl =\n",
              "          document.querySelector('#df-393ea56e-e787-45f2-a112-6e3051b668be button.colab-df-convert');\n",
              "        buttonEl.style.display =\n",
              "          google.colab.kernel.accessAllowed ? 'block' : 'none';\n",
              "\n",
              "        async function convertToInteractive(key) {\n",
              "          const element = document.querySelector('#df-393ea56e-e787-45f2-a112-6e3051b668be');\n",
              "          const dataTable =\n",
              "            await google.colab.kernel.invokeFunction('convertToInteractive',\n",
              "                                                     [key], {});\n",
              "          if (!dataTable) return;\n",
              "\n",
              "          const docLinkHtml = 'Like what you see? Visit the ' +\n",
              "            '<a target=\"_blank\" href=https://colab.research.google.com/notebooks/data_table.ipynb>data table notebook</a>'\n",
              "            + ' to learn more about interactive tables.';\n",
              "          element.innerHTML = '';\n",
              "          dataTable['output_type'] = 'display_data';\n",
              "          await google.colab.output.renderOutput(dataTable, element);\n",
              "          const docLink = document.createElement('div');\n",
              "          docLink.innerHTML = docLinkHtml;\n",
              "          element.appendChild(docLink);\n",
              "        }\n",
              "      </script>\n",
              "    </div>\n",
              "  </div>\n",
              "  "
            ],
            "text/plain": [
              "            total_sells        log  diff_log      y_pred\n",
              "date                                                    \n",
              "2016-03-19  80225792.35  18.200356  0.155454  92648784.0\n",
              "2016-03-20  74614901.82  18.127851 -0.072505  92493984.0\n",
              "2016-03-21  67282749.50  18.024414 -0.103436  58288060.0\n",
              "2016-03-22  63954099.56  17.973676 -0.050738  55514200.0\n",
              "2016-03-23  61200862.74  17.929672 -0.044004  56430636.0"
            ]
          },
          "execution_count": 26,
          "metadata": {},
          "output_type": "execute_result"
        }
      ],
      "source": [
        "df_foods.tail()"
      ]
    },
    {
      "cell_type": "code",
      "execution_count": 27,
      "metadata": {
        "colab": {
          "base_uri": "https://localhost:8080/",
          "height": 272
        },
        "id": "LSHSJk-PuDFI",
        "outputId": "37b2ed73-63ab-4dd3-8e42-c6e2cef68c21"
      },
      "outputs": [
        {
          "data": {
            "image/png": "[encoded data removed]",
            "text/plain": [
              "<Figure size 2304x360 with 1 Axes>"
            ]
          },
          "metadata": {},
          "output_type": "display_data"
        }
      ],
      "source": [
        "# Create the lineplot\n",
        "fig, ax1 = plt.subplots(figsize=(32, 5), sharex=True)\n",
        "ax1.tick_params(axis=\"x\", rotation=0, labelsize=10, length=0)\n",
        "plt.title(\"Predictions vs Ground Truth\")\n",
        "sns.lineplot(data=df_foods[[\"total_sells\", \"y_pred\"]].iloc[-300:,:])\n",
        "plt.show()"
      ]
    },
    {
      "cell_type": "code",
      "execution_count": 28,
      "metadata": {
        "colab": {
          "base_uri": "https://localhost:8080/",
          "height": 350
        },
        "id": "dY9Jj0S6oXTb",
        "outputId": "18907e5d-3859-4166-8015-a93d4f4ea068"
      },
      "outputs": [
        {
          "data": {
            "image/png": "[encoded data removed]",
            "text/plain": [
              "<Figure size 720x360 with 1 Axes>"
            ]
          },
          "metadata": {},
          "output_type": "display_data"
        }
      ],
      "source": [
        "# Plot training & validation loss values\n",
        "fig, ax = plt.subplots(figsize=(10, 5), sharex=True)\n",
        "sns.lineplot(data=history.history[\"loss\"])\n",
        "plt.title(\"Model loss\")\n",
        "plt.ylabel(\"Loss\")\n",
        "plt.xlabel(\"Epoch\")\n",
        "ax.xaxis.set_major_locator(plt.MaxNLocator(epochs))\n",
        "plt.legend([\"Train\"], loc=\"upper left\")\n",
        "plt.grid()\n",
        "plt.show()"
      ]
    },
    {
      "cell_type": "markdown",
      "metadata": {
        "id": "6yE2tkVroe-J"
      },
      "source": [
        "#### **Multi-step**"
      ]
    },
    {
      "cell_type": "code",
      "execution_count": 29,
      "metadata": {
        "colab": {
          "base_uri": "https://localhost:8080/"
        },
        "id": "RH8_wdBtohKZ",
        "outputId": "7d51b89c-52f2-4158-ffb6-d5e64aadc371"
      },
      "outputs": [
        {
          "name": "stdout",
          "output_type": "stream",
          "text": [
            "1/1 [==============================] - 0s 23ms/step\n",
            "1/1 [==============================] - 0s 21ms/step\n",
            "1/1 [==============================] - 0s 20ms/step\n",
            "1/1 [==============================] - 0s 20ms/step\n",
            "1/1 [==============================] - 0s 21ms/step\n",
            "1/1 [==============================] - 0s 21ms/step\n",
            "1/1 [==============================] - 0s 21ms/step\n",
            "1/1 [==============================] - 0s 22ms/step\n",
            "1/1 [==============================] - 0s 21ms/step\n",
            "1/1 [==============================] - 0s 22ms/step\n",
            "1/1 [==============================] - 0s 21ms/step\n",
            "1/1 [==============================] - 0s 20ms/step\n",
            "1/1 [==============================] - 0s 19ms/step\n",
            "1/1 [==============================] - 0s 19ms/step\n",
            "1/1 [==============================] - 0s 21ms/step\n",
            "1/1 [==============================] - 0s 19ms/step\n",
            "1/1 [==============================] - 0s 21ms/step\n",
            "1/1 [==============================] - 0s 21ms/step\n",
            "1/1 [==============================] - 0s 21ms/step\n",
            "1/1 [==============================] - 0s 20ms/step\n",
            "1/1 [==============================] - 0s 20ms/step\n",
            "1/1 [==============================] - 0s 21ms/step\n",
            "1/1 [==============================] - 0s 20ms/step\n",
            "1/1 [==============================] - 0s 19ms/step\n",
            "1/1 [==============================] - 0s 20ms/step\n",
            "1/1 [==============================] - 0s 20ms/step\n",
            "1/1 [==============================] - 0s 20ms/step\n",
            "1/1 [==============================] - 0s 24ms/step\n",
            "1/1 [==============================] - 0s 20ms/step\n",
            "1/1 [==============================] - 0s 20ms/step\n"
          ]
        }
      ],
      "source": [
        "# Settings and Model Labels\n",
        "rolling_forecast_range = 30\n",
        "titletext = \"Forecast Chart Model A\"\n",
        "ms = [\n",
        "    [\"epochs\", epochs],\n",
        "    [\"batch_size\", batch_size],\n",
        "    [\"lstm_neuron_number\", n_neurons],\n",
        "    [\"rolling_forecast_range\", rolling_forecast_range],\n",
        "    [\"layers\", \"LSTM, DENSE(1)\"],\n",
        "]\n",
        "settings_text = \"\"\n",
        "lms = len(ms)\n",
        "for i in range(0, lms):\n",
        "    settings_text += ms[i][0] + \": \" + str(ms[i][1])\n",
        "    \n",
        "    if i < lms - 1:\n",
        "        settings_text = settings_text + \",  \"\n",
        "\n",
        "# Making a Multi-Step Prediction\n",
        "# Create the initial input data\n",
        "new_df = df_foods.filter([\"total_sells\"])\n",
        "for i in range(0, rolling_forecast_range):\n",
        "    # Select the last sequence from the dataframe as input for the prediction model\n",
        "    last_values = new_df[-n_neurons:].values\n",
        "    \n",
        "    # Scale the input data and bring it into shape\n",
        "    last_values_scaled = scaler.transform(last_values)\n",
        "    X_input = np.array(last_values_scaled).reshape([1, 180, 1])\n",
        "    X_test = np.reshape(X_input, (X_input.shape[0], X_input.shape[1], 1))\n",
        "    \n",
        "    # Predict and unscale the predictions\n",
        "    pred_value = model.predict(X_input)\n",
        "    pred_value_unscaled = scaler.inverse_transform(pred_value)\n",
        "    \n",
        "    # Add the prediction to the next input dataframe\n",
        "    new_df = pd.concat([new_df, pd.DataFrame({\"total_sells\": pred_value_unscaled[0, 0]}, index=new_df.iloc[[-1]].index.values + 1)])\n",
        "    new_df_length = new_df.size\n",
        "forecast = new_df[new_df_length - rolling_forecast_range : new_df_length].rename(\n",
        "    columns={\"total_sells\": \"Forecast\"}\n",
        ")"
      ]
    },
    {
      "cell_type": "code",
      "execution_count": 30,
      "metadata": {
        "colab": {
          "base_uri": "https://localhost:8080/",
          "height": 237
        },
        "id": "0htSEepb09qk",
        "outputId": "d83c46b8-4ea3-4522-eeef-0c4f13971bcd"
      },
      "outputs": [
        {
          "data": {
            "text/html": [
              "\n",
              "  <div id=\"df-9bd73477-e269-4639-9c59-bd3cf75f77b1\">\n",
              "    <div class=\"colab-df-container\">\n",
              "      <div>\n",
              "<style scoped>\n",
              "    .dataframe tbody tr th:only-of-type {\n",
              "        vertical-align: middle;\n",
              "    }\n",
              "\n",
              "    .dataframe tbody tr th {\n",
              "        vertical-align: top;\n",
              "    }\n",
              "\n",
              "    .dataframe thead th {\n",
              "        text-align: right;\n",
              "    }\n",
              "</style>\n",
              "<table border=\"1\" class=\"dataframe\">\n",
              "  <thead>\n",
              "    <tr style=\"text-align: right;\">\n",
              "      <th></th>\n",
              "      <th>total_sells</th>\n",
              "      <th>log</th>\n",
              "      <th>diff_log</th>\n",
              "      <th>y_pred</th>\n",
              "    </tr>\n",
              "    <tr>\n",
              "      <th>date</th>\n",
              "      <th></th>\n",
              "      <th></th>\n",
              "      <th></th>\n",
              "      <th></th>\n",
              "    </tr>\n",
              "  </thead>\n",
              "  <tbody>\n",
              "    <tr>\n",
              "      <th>2016-03-19</th>\n",
              "      <td>80225792.35</td>\n",
              "      <td>18.200356</td>\n",
              "      <td>0.155454</td>\n",
              "      <td>92648784.0</td>\n",
              "    </tr>\n",
              "    <tr>\n",
              "      <th>2016-03-20</th>\n",
              "      <td>74614901.82</td>\n",
              "      <td>18.127851</td>\n",
              "      <td>-0.072505</td>\n",
              "      <td>92493984.0</td>\n",
              "    </tr>\n",
              "    <tr>\n",
              "      <th>2016-03-21</th>\n",
              "      <td>67282749.50</td>\n",
              "      <td>18.024414</td>\n",
              "      <td>-0.103436</td>\n",
              "      <td>58288060.0</td>\n",
              "    </tr>\n",
              "    <tr>\n",
              "      <th>2016-03-22</th>\n",
              "      <td>63954099.56</td>\n",
              "      <td>17.973676</td>\n",
              "      <td>-0.050738</td>\n",
              "      <td>55514200.0</td>\n",
              "    </tr>\n",
              "    <tr>\n",
              "      <th>2016-03-23</th>\n",
              "      <td>61200862.74</td>\n",
              "      <td>17.929672</td>\n",
              "      <td>-0.044004</td>\n",
              "      <td>56430636.0</td>\n",
              "    </tr>\n",
              "  </tbody>\n",
              "</table>\n",
              "</div>\n",
              "      <button class=\"colab-df-convert\" onclick=\"convertToInteractive('df-9bd73477-e269-4639-9c59-bd3cf75f77b1')\"\n",
              "              title=\"Convert this dataframe to an interactive table.\"\n",
              "              style=\"display:none;\">\n",
              "        \n",
              "  <svg xmlns=\"http://www.w3.org/2000/svg\" height=\"24px\"viewBox=\"0 0 24 24\"\n",
              "       width=\"24px\">\n",
              "    <path d=\"M0 0h24v24H0V0z\" fill=\"none\"/>\n",
              "    <path d=\"M18.56 5.44l.94 2.06.94-2.06 2.06-.94-2.06-.94-.94-2.06-.94 2.06-2.06.94zm-11 1L8.5 8.5l.94-2.06 2.06-.94-2.06-.94L8.5 2.5l-.94 2.06-2.06.94zm10 10l.94 2.06.94-2.06 2.06-.94-2.06-.94-.94-2.06-.94 2.06-2.06.94z\"/><path d=\"M17.41 7.96l-1.37-1.37c-.4-.4-.92-.59-1.43-.59-.52 0-1.04.2-1.43.59L10.3 9.45l-7.72 7.72c-.78.78-.78 2.05 0 2.83L4 21.41c.39.39.9.59 1.41.59.51 0 1.02-.2 1.41-.59l7.78-7.78 2.81-2.81c.8-.78.8-2.07 0-2.86zM5.41 20L4 18.59l7.72-7.72 1.47 1.35L5.41 20z\"/>\n",
              "  </svg>\n",
              "      </button>\n",
              "      \n",
              "  <style>\n",
              "    .colab-df-container {\n",
              "      display:flex;\n",
              "      flex-wrap:wrap;\n",
              "      gap: 12px;\n",
              "    }\n",
              "\n",
              "    .colab-df-convert {\n",
              "      background-color: #E8F0FE;\n",
              "      border: none;\n",
              "      border-radius: 50%;\n",
              "      cursor: pointer;\n",
              "      display: none;\n",
              "      fill: #1967D2;\n",
              "      height: 32px;\n",
              "      padding: 0 0 0 0;\n",
              "      width: 32px;\n",
              "    }\n",
              "\n",
              "    .colab-df-convert:hover {\n",
              "      background-color: #E2EBFA;\n",
              "      box-shadow: 0px 1px 2px rgba(60, 64, 67, 0.3), 0px 1px 3px 1px rgba(60, 64, 67, 0.15);\n",
              "      fill: #174EA6;\n",
              "    }\n",
              "\n",
              "    [theme=dark] .colab-df-convert {\n",
              "      background-color: #3B4455;\n",
              "      fill: #D2E3FC;\n",
              "    }\n",
              "\n",
              "    [theme=dark] .colab-df-convert:hover {\n",
              "      background-color: #434B5C;\n",
              "      box-shadow: 0px 1px 3px 1px rgba(0, 0, 0, 0.15);\n",
              "      filter: drop-shadow(0px 1px 2px rgba(0, 0, 0, 0.3));\n",
              "      fill: #FFFFFF;\n",
              "    }\n",
              "  </style>\n",
              "\n",
              "      <script>\n",
              "        const buttonEl =\n",
              "          document.querySelector('#df-9bd73477-e269-4639-9c59-bd3cf75f77b1 button.colab-df-convert');\n",
              "        buttonEl.style.display =\n",
              "          google.colab.kernel.accessAllowed ? 'block' : 'none';\n",
              "\n",
              "        async function convertToInteractive(key) {\n",
              "          const element = document.querySelector('#df-9bd73477-e269-4639-9c59-bd3cf75f77b1');\n",
              "          const dataTable =\n",
              "            await google.colab.kernel.invokeFunction('convertToInteractive',\n",
              "                                                     [key], {});\n",
              "          if (!dataTable) return;\n",
              "\n",
              "          const docLinkHtml = 'Like what you see? Visit the ' +\n",
              "            '<a target=\"_blank\" href=https://colab.research.google.com/notebooks/data_table.ipynb>data table notebook</a>'\n",
              "            + ' to learn more about interactive tables.';\n",
              "          element.innerHTML = '';\n",
              "          dataTable['output_type'] = 'display_data';\n",
              "          await google.colab.output.renderOutput(dataTable, element);\n",
              "          const docLink = document.createElement('div');\n",
              "          docLink.innerHTML = docLinkHtml;\n",
              "          element.appendChild(docLink);\n",
              "        }\n",
              "      </script>\n",
              "    </div>\n",
              "  </div>\n",
              "  "
            ],
            "text/plain": [
              "            total_sells        log  diff_log      y_pred\n",
              "date                                                    \n",
              "2016-03-19  80225792.35  18.200356  0.155454  92648784.0\n",
              "2016-03-20  74614901.82  18.127851 -0.072505  92493984.0\n",
              "2016-03-21  67282749.50  18.024414 -0.103436  58288060.0\n",
              "2016-03-22  63954099.56  17.973676 -0.050738  55514200.0\n",
              "2016-03-23  61200862.74  17.929672 -0.044004  56430636.0"
            ]
          },
          "execution_count": 30,
          "metadata": {},
          "output_type": "execute_result"
        }
      ],
      "source": [
        "df_foods.tail()"
      ]
    },
    {
      "cell_type": "code",
      "execution_count": 31,
      "metadata": {
        "colab": {
          "base_uri": "https://localhost:8080/"
        },
        "id": "_M_m6ZewZVXm",
        "outputId": "0a02e3d3-8963-47ed-b9c0-c2d0610d7dbd"
      },
      "outputs": [
        {
          "data": {
            "text/plain": [
              "{'total_sells': 67028440.0}"
            ]
          },
          "execution_count": 31,
          "metadata": {},
          "output_type": "execute_result"
        }
      ],
      "source": [
        "{\"total_sells\": pred_value_unscaled[0, 0]}"
      ]
    },
    {
      "cell_type": "code",
      "execution_count": 32,
      "metadata": {
        "colab": {
          "base_uri": "https://localhost:8080/"
        },
        "id": "7UWJJG39Zcpf",
        "outputId": "43483fbe-9b95-4649-a93e-a4c0f45f1f4f"
      },
      "outputs": [
        {
          "data": {
            "text/plain": [
              "datetime.date(2016, 3, 24)"
            ]
          },
          "execution_count": 32,
          "metadata": {},
          "output_type": "execute_result"
        }
      ],
      "source": [
        "import datetime\n",
        "(pd.to_datetime(new_df.iloc[[-1]].index.values[0] ) + datetime.timedelta(1)).date()"
      ]
    },
    {
      "cell_type": "code",
      "execution_count": 33,
      "metadata": {
        "colab": {
          "base_uri": "https://localhost:8080/"
        },
        "id": "xOjnREAsZZKB",
        "outputId": "4fc70d67-0db3-4c67-e530-845dc3ba58f1"
      },
      "outputs": [
        {
          "data": {
            "text/plain": [
              "array(['2016-03-23T00:00:00.000000031'], dtype='datetime64[ns]')"
            ]
          },
          "execution_count": 33,
          "metadata": {},
          "output_type": "execute_result"
        }
      ],
      "source": [
        "new_df.iloc[[-1]].index.values + 1"
      ]
    },
    {
      "cell_type": "code",
      "execution_count": 34,
      "metadata": {
        "colab": {
          "base_uri": "https://localhost:8080/",
          "height": 424
        },
        "id": "53F6aNhT1q0N",
        "outputId": "54495b92-525b-4c2f-c302-542568cae24b"
      },
      "outputs": [
        {
          "data": {
            "text/html": [
              "\n",
              "  <div id=\"df-9d282415-808e-4f81-a358-376ca45c6a70\">\n",
              "    <div class=\"colab-df-container\">\n",
              "      <div>\n",
              "<style scoped>\n",
              "    .dataframe tbody tr th:only-of-type {\n",
              "        vertical-align: middle;\n",
              "    }\n",
              "\n",
              "    .dataframe tbody tr th {\n",
              "        vertical-align: top;\n",
              "    }\n",
              "\n",
              "    .dataframe thead th {\n",
              "        text-align: right;\n",
              "    }\n",
              "</style>\n",
              "<table border=\"1\" class=\"dataframe\">\n",
              "  <thead>\n",
              "    <tr style=\"text-align: right;\">\n",
              "      <th></th>\n",
              "      <th>total_sells</th>\n",
              "    </tr>\n",
              "  </thead>\n",
              "  <tbody>\n",
              "    <tr>\n",
              "      <th>2011-01-30 00:00:00.000000000</th>\n",
              "      <td>32232257.07</td>\n",
              "    </tr>\n",
              "    <tr>\n",
              "      <th>2011-01-31 00:00:00.000000000</th>\n",
              "      <td>19527808.56</td>\n",
              "    </tr>\n",
              "    <tr>\n",
              "      <th>2011-02-01 00:00:00.000000000</th>\n",
              "      <td>22887926.52</td>\n",
              "    </tr>\n",
              "    <tr>\n",
              "      <th>2011-02-02 00:00:00.000000000</th>\n",
              "      <td>19278399.79</td>\n",
              "    </tr>\n",
              "    <tr>\n",
              "      <th>2011-02-03 00:00:00.000000000</th>\n",
              "      <td>24558648.01</td>\n",
              "    </tr>\n",
              "    <tr>\n",
              "      <th>...</th>\n",
              "      <td>...</td>\n",
              "    </tr>\n",
              "    <tr>\n",
              "      <th>2016-03-23 00:00:00.000000026</th>\n",
              "      <td>63449996.00</td>\n",
              "    </tr>\n",
              "    <tr>\n",
              "      <th>2016-03-23 00:00:00.000000027</th>\n",
              "      <td>55390948.00</td>\n",
              "    </tr>\n",
              "    <tr>\n",
              "      <th>2016-03-23 00:00:00.000000028</th>\n",
              "      <td>53984128.00</td>\n",
              "    </tr>\n",
              "    <tr>\n",
              "      <th>2016-03-23 00:00:00.000000029</th>\n",
              "      <td>56256460.00</td>\n",
              "    </tr>\n",
              "    <tr>\n",
              "      <th>2016-03-23 00:00:00.000000030</th>\n",
              "      <td>67028440.00</td>\n",
              "    </tr>\n",
              "  </tbody>\n",
              "</table>\n",
              "<p>1910 rows × 1 columns</p>\n",
              "</div>\n",
              "      <button class=\"colab-df-convert\" onclick=\"convertToInteractive('df-9d282415-808e-4f81-a358-376ca45c6a70')\"\n",
              "              title=\"Convert this dataframe to an interactive table.\"\n",
              "              style=\"display:none;\">\n",
              "        \n",
              "  <svg xmlns=\"http://www.w3.org/2000/svg\" height=\"24px\"viewBox=\"0 0 24 24\"\n",
              "       width=\"24px\">\n",
              "    <path d=\"M0 0h24v24H0V0z\" fill=\"none\"/>\n",
              "    <path d=\"M18.56 5.44l.94 2.06.94-2.06 2.06-.94-2.06-.94-.94-2.06-.94 2.06-2.06.94zm-11 1L8.5 8.5l.94-2.06 2.06-.94-2.06-.94L8.5 2.5l-.94 2.06-2.06.94zm10 10l.94 2.06.94-2.06 2.06-.94-2.06-.94-.94-2.06-.94 2.06-2.06.94z\"/><path d=\"M17.41 7.96l-1.37-1.37c-.4-.4-.92-.59-1.43-.59-.52 0-1.04.2-1.43.59L10.3 9.45l-7.72 7.72c-.78.78-.78 2.05 0 2.83L4 21.41c.39.39.9.59 1.41.59.51 0 1.02-.2 1.41-.59l7.78-7.78 2.81-2.81c.8-.78.8-2.07 0-2.86zM5.41 20L4 18.59l7.72-7.72 1.47 1.35L5.41 20z\"/>\n",
              "  </svg>\n",
              "      </button>\n",
              "      \n",
              "  <style>\n",
              "    .colab-df-container {\n",
              "      display:flex;\n",
              "      flex-wrap:wrap;\n",
              "      gap: 12px;\n",
              "    }\n",
              "\n",
              "    .colab-df-convert {\n",
              "      background-color: #E8F0FE;\n",
              "      border: none;\n",
              "      border-radius: 50%;\n",
              "      cursor: pointer;\n",
              "      display: none;\n",
              "      fill: #1967D2;\n",
              "      height: 32px;\n",
              "      padding: 0 0 0 0;\n",
              "      width: 32px;\n",
              "    }\n",
              "\n",
              "    .colab-df-convert:hover {\n",
              "      background-color: #E2EBFA;\n",
              "      box-shadow: 0px 1px 2px rgba(60, 64, 67, 0.3), 0px 1px 3px 1px rgba(60, 64, 67, 0.15);\n",
              "      fill: #174EA6;\n",
              "    }\n",
              "\n",
              "    [theme=dark] .colab-df-convert {\n",
              "      background-color: #3B4455;\n",
              "      fill: #D2E3FC;\n",
              "    }\n",
              "\n",
              "    [theme=dark] .colab-df-convert:hover {\n",
              "      background-color: #434B5C;\n",
              "      box-shadow: 0px 1px 3px 1px rgba(0, 0, 0, 0.15);\n",
              "      filter: drop-shadow(0px 1px 2px rgba(0, 0, 0, 0.3));\n",
              "      fill: #FFFFFF;\n",
              "    }\n",
              "  </style>\n",
              "\n",
              "      <script>\n",
              "        const buttonEl =\n",
              "          document.querySelector('#df-9d282415-808e-4f81-a358-376ca45c6a70 button.colab-df-convert');\n",
              "        buttonEl.style.display =\n",
              "          google.colab.kernel.accessAllowed ? 'block' : 'none';\n",
              "\n",
              "        async function convertToInteractive(key) {\n",
              "          const element = document.querySelector('#df-9d282415-808e-4f81-a358-376ca45c6a70');\n",
              "          const dataTable =\n",
              "            await google.colab.kernel.invokeFunction('convertToInteractive',\n",
              "                                                     [key], {});\n",
              "          if (!dataTable) return;\n",
              "\n",
              "          const docLinkHtml = 'Like what you see? Visit the ' +\n",
              "            '<a target=\"_blank\" href=https://colab.research.google.com/notebooks/data_table.ipynb>data table notebook</a>'\n",
              "            + ' to learn more about interactive tables.';\n",
              "          element.innerHTML = '';\n",
              "          dataTable['output_type'] = 'display_data';\n",
              "          await google.colab.output.renderOutput(dataTable, element);\n",
              "          const docLink = document.createElement('div');\n",
              "          docLink.innerHTML = docLinkHtml;\n",
              "          element.appendChild(docLink);\n",
              "        }\n",
              "      </script>\n",
              "    </div>\n",
              "  </div>\n",
              "  "
            ],
            "text/plain": [
              "                               total_sells\n",
              "2011-01-30 00:00:00.000000000  32232257.07\n",
              "2011-01-31 00:00:00.000000000  19527808.56\n",
              "2011-02-01 00:00:00.000000000  22887926.52\n",
              "2011-02-02 00:00:00.000000000  19278399.79\n",
              "2011-02-03 00:00:00.000000000  24558648.01\n",
              "...                                    ...\n",
              "2016-03-23 00:00:00.000000026  63449996.00\n",
              "2016-03-23 00:00:00.000000027  55390948.00\n",
              "2016-03-23 00:00:00.000000028  53984128.00\n",
              "2016-03-23 00:00:00.000000029  56256460.00\n",
              "2016-03-23 00:00:00.000000030  67028440.00\n",
              "\n",
              "[1910 rows x 1 columns]"
            ]
          },
          "execution_count": 34,
          "metadata": {},
          "output_type": "execute_result"
        }
      ],
      "source": [
        "new_df"
      ]
    },
    {
      "cell_type": "code",
      "execution_count": 35,
      "metadata": {
        "id": "fjECYzm_1Jnp"
      },
      "outputs": [],
      "source": [
        "yval = df_foods_test_hold.iloc[:30,:][[\"total_sells\"]]\n",
        "yval[\"y_pred\"] = forecast.values"
      ]
    },
    {
      "cell_type": "code",
      "execution_count": 36,
      "metadata": {
        "colab": {
          "base_uri": "https://localhost:8080/"
        },
        "id": "fNFpIKJK16Od",
        "outputId": "249b9aa2-8d8f-4b97-fc8b-8e55db7a1a31"
      },
      "outputs": [
        {
          "name": "stdout",
          "output_type": "stream",
          "text": [
            "Median Absolute Error (MAE): 11361586.71\n",
            "Mean Absolute Percentage Error (MAPE): 13.68 %\n",
            "Median Absolute Percentage Error (MDAPE): 12.5 %\n"
          ]
        }
      ],
      "source": [
        "# Mean Absolute Error (MAE)\n",
        "y_test_unscaled, y_pred_unscaled = yval.total_sells.values, yval.y_pred.values\n",
        "\n",
        "MAE = mean_absolute_error(y_test_unscaled, y_pred_unscaled)\n",
        "print(f'Median Absolute Error (MAE): {np.round(MAE, 2)}')\n",
        "\n",
        "# Mean Absolute Percentage Error (MAPE)\n",
        "MAPE = np.mean((np.abs(np.subtract(y_test_unscaled, y_pred_unscaled)/ y_test_unscaled))) * 100\n",
        "print(f'Mean Absolute Percentage Error (MAPE): {np.round(MAPE, 2)} %')\n",
        "\n",
        "# Median Absolute Percentage Error (MDAPE)\n",
        "MDAPE = np.median((np.abs(np.subtract(y_test_unscaled, y_pred_unscaled)/ y_test_unscaled)) ) * 100\n",
        "print(f'Median Absolute Percentage Error (MDAPE): {np.round(MDAPE, 2)} %')"
      ]
    },
    {
      "cell_type": "code",
      "execution_count": 37,
      "metadata": {
        "colab": {
          "base_uri": "https://localhost:8080/",
          "height": 525
        },
        "id": "gWTdxvwf2hOC",
        "outputId": "45a61642-9d97-4adb-8a85-1edf4093767b"
      },
      "outputs": [
        {
          "data": {
            "text/plain": [
              "<matplotlib.axes._subplots.AxesSubplot at 0x7fb7b2025100>"
            ]
          },
          "execution_count": 37,
          "metadata": {},
          "output_type": "execute_result"
        },
        {
          "data": {
            "image/png": "[encoded data removed]",
            "text/plain": [
              "<Figure size 1440x576 with 1 Axes>"
            ]
          },
          "metadata": {},
          "output_type": "display_data"
        }
      ],
      "source": [
        "plt.figure(figsize=(20,8))\n",
        "plt.tight_layout\n",
        "sns.lineplot(data=yval)\n"
      ]
    },
    {
      "cell_type": "markdown",
      "metadata": {
        "id": "qYDWeJZ63HKD"
      },
      "source": [
        "**Se re-entrena con todo el dataset y se prueba en test**"
      ]
    },
    {
      "cell_type": "code",
      "execution_count": 38,
      "metadata": {
        "colab": {
          "base_uri": "https://localhost:8080/"
        },
        "id": "0NQYTcEy3_Sp",
        "outputId": "c63dfd3f-6692-4b61-e375-667d785dd210"
      },
      "outputs": [
        {
          "name": "stdout",
          "output_type": "stream",
          "text": [
            "(1910, 1)\n",
            "(1711, 180, 1) (1711,)\n",
            "(19, 180, 1) (19,)\n",
            "2.0462576874897804\n",
            "2.0462576874897804\n"
          ]
        }
      ],
      "source": [
        "df_foods = df_foods_ori \n",
        "df_foods_test_hold = df_foods.iloc[-30:,:]\n",
        "df_foods = df_foods.iloc[:-30,:]\n",
        "\n",
        "\n",
        "#---------------------------------------------------------------------\n",
        "data = df_foods.total_sells.copy()\n",
        "\n",
        "# Get the number of rows in the data\n",
        "nrows = df_foods.shape[0]\n",
        "\n",
        "# Convert the data to numpy values\n",
        "np_data_unscaled = df_foods.total_sells.values\n",
        "np_data_unscaled = np.reshape(np_data_unscaled, (nrows, -1))\n",
        "print(np_data_unscaled.shape)\n",
        "\n",
        "# Transform the data by scaling each feature to a range between 0 and 1\n",
        "scaler = StandardScaler()\n",
        "np_data_scaled = scaler.fit_transform(np_data_unscaled)\n",
        "\n",
        "# Set the sequence length - this is the timeframe used to make a single prediction\n",
        "sequence_length = 180\n",
        "\n",
        "# Prediction Index\n",
        "index_Close = 0\n",
        "\n",
        "# Split the training data into train and train data sets\n",
        "# As a first step, we get the number of rows to train the model on 80% of the data \n",
        "train_data_len = math.ceil(np_data_scaled.shape[0] * 0.99)\n",
        "\n",
        "# Create the training and test data\n",
        "train_data = np_data_scaled[:train_data_len, :]\n",
        "test_data = np_data_scaled[train_data_len - sequence_length:, :]\n",
        "\n",
        "#------------------------------------------------------------------------------------------\n",
        "\n",
        "# The RNN needs data with the format of [samples, time steps, features]\n",
        "# Here, we create N samples, sequence_length time steps per sample, and 6 features\n",
        "def partition_dataset(sequence_length, data):\n",
        "    x, y = [], []\n",
        "    data_len = data.shape[0]\n",
        "    for i in range(sequence_length, data_len):\n",
        "        x.append(data[i-sequence_length:i,:]) #contains sequence_length values 0-sequence_length * columsn\n",
        "        y.append(data[i, index_Close]) #contains the prediction values for validation (3rd column = Close),  for single-step prediction\n",
        "    \n",
        "    # Convert the x and y to numpy arrays\n",
        "    x = np.array(x)\n",
        "    y = np.array(y)\n",
        "    return x, y\n",
        "\n",
        "\n",
        "# Generate training data and test data\n",
        "x_train, y_train = partition_dataset(sequence_length, train_data)\n",
        "x_test, y_test = partition_dataset(sequence_length, test_data)\n",
        "\n",
        "# Print the shapes: the result is: (rows, training_sequence, features) (prediction value, )\n",
        "print(x_train.shape, y_train.shape)\n",
        "print(x_test.shape, y_test.shape)\n",
        "\n",
        "# Validate that the prediction value and the input match up\n",
        "# The last close price of the second input sample should equal the first prediction value\n",
        "print(x_test[1][sequence_length-1][index_Close])\n",
        "print(y_test[0])\n"
      ]
    },
    {
      "cell_type": "code",
      "execution_count": 39,
      "metadata": {
        "id": "X6IKY8vJ4hSW"
      },
      "outputs": [],
      "source": [
        "epochs = 20; batch_size = 1;\n",
        "\n",
        "# Model with n_neurons = inputshape Timestamps, each with x_train.shape[2] variables\n",
        "n_neurons = x_train.shape[1] * x_train.shape[2]\n",
        "model = Sequential()\n",
        "model.add(LSTM(n_neurons, return_sequences=True, input_shape=(x_train.shape[1], 1)))\n",
        "model.add(LSTM(n_neurons, return_sequences=False))\n",
        "model.add(Dense(5))\n",
        "model.add(Dense(1))\n",
        "model.compile(optimizer=\"adam\", loss=\"mean_squared_error\")"
      ]
    },
    {
      "cell_type": "code",
      "execution_count": 40,
      "metadata": {
        "colab": {
          "base_uri": "https://localhost:8080/"
        },
        "id": "11aRyXsI4s2P",
        "outputId": "c49c36f8-e002-4fb4-b0b1-c3199eb67820"
      },
      "outputs": [
        {
          "name": "stdout",
          "output_type": "stream",
          "text": [
            "Epoch 1/20\n",
            "1711/1711 [==============================] - 23s 12ms/step - loss: 0.3498\n",
            "Epoch 2/20\n",
            "1711/1711 [==============================] - 21s 12ms/step - loss: 0.1631\n",
            "Epoch 3/20\n",
            "1711/1711 [==============================] - 21s 12ms/step - loss: 0.1582\n",
            "Epoch 4/20\n",
            "1711/1711 [==============================] - 21s 12ms/step - loss: 0.1503\n",
            "Epoch 5/20\n",
            "1711/1711 [==============================] - 21s 12ms/step - loss: 0.3055\n",
            "Epoch 6/20\n",
            "1711/1711 [==============================] - 21s 12ms/step - loss: 0.5145\n",
            "Epoch 7/20\n",
            "1711/1711 [==============================] - 21s 12ms/step - loss: 0.2068\n",
            "Epoch 8/20\n",
            "1711/1711 [==============================] - 21s 12ms/step - loss: 0.1903\n",
            "Epoch 9/20\n",
            "1711/1711 [==============================] - 21s 12ms/step - loss: 0.1751\n",
            "Epoch 10/20\n",
            "1711/1711 [==============================] - 21s 12ms/step - loss: 0.1583\n",
            "Epoch 11/20\n",
            "1711/1711 [==============================] - 21s 12ms/step - loss: 0.1673\n",
            "Epoch 12/20\n",
            "1711/1711 [==============================] - 21s 12ms/step - loss: 0.1388\n",
            "Epoch 13/20\n",
            "1711/1711 [==============================] - 21s 12ms/step - loss: 0.1436\n",
            "Epoch 14/20\n",
            "1711/1711 [==============================] - 21s 12ms/step - loss: 0.1374\n",
            "Epoch 15/20\n",
            "1711/1711 [==============================] - 21s 12ms/step - loss: 0.1301\n",
            "Epoch 16/20\n",
            "1711/1711 [==============================] - 21s 12ms/step - loss: 0.1177\n",
            "Epoch 17/20\n",
            "1711/1711 [==============================] - 21s 12ms/step - loss: 0.1155\n",
            "Epoch 18/20\n",
            "1711/1711 [==============================] - 21s 12ms/step - loss: 0.1152\n",
            "Epoch 19/20\n",
            "1711/1711 [==============================] - 21s 12ms/step - loss: 0.1125\n",
            "Epoch 20/20\n",
            "1711/1711 [==============================] - 21s 12ms/step - loss: 0.1044\n"
          ]
        }
      ],
      "source": [
        "# Train the model\n",
        "history = model.fit(x_train, y_train, batch_size=batch_size, epochs=epochs)"
      ]
    },
    {
      "cell_type": "code",
      "execution_count": 41,
      "metadata": {
        "colab": {
          "base_uri": "https://localhost:8080/"
        },
        "id": "L7icUoAv48z_",
        "outputId": "910467da-e44a-4118-bee3-0a3e5ac87aae"
      },
      "outputs": [
        {
          "name": "stdout",
          "output_type": "stream",
          "text": [
            "1/1 [==============================] - 1s 731ms/step\n",
            "Median Absolute Error (MAE): 7453573.4\n",
            "Mean Absolute Percentage Error (MAPE): 9.02 %\n",
            "Median Absolute Percentage Error (MDAPE): 6.39 %\n"
          ]
        }
      ],
      "source": [
        "# Reshape the data, so that we get an array with multiple test datasets\n",
        "x_test_np = np.array(x_test)\n",
        "x_test_reshape = np.reshape(x_test_np, (x_test_np.shape[0], x_test_np.shape[1], 1))\n",
        "\n",
        "# Get the predicted values\n",
        "y_pred = model.predict(x_test_reshape)\n",
        "y_pred_unscaled = scaler.inverse_transform(y_pred)\n",
        "y_test_unscaled = scaler.inverse_transform(y_test.reshape(-1, 1))\n",
        "\n",
        "# Mean Absolute Error (MAE)\n",
        "MAE = mean_absolute_error(y_test_unscaled, y_pred_unscaled)\n",
        "print(f'Median Absolute Error (MAE): {np.round(MAE, 2)}')\n",
        "\n",
        "# Mean Absolute Percentage Error (MAPE)\n",
        "MAPE = np.mean((np.abs(np.subtract(y_test_unscaled, y_pred_unscaled)/ y_test_unscaled))) * 100\n",
        "print(f'Mean Absolute Percentage Error (MAPE): {np.round(MAPE, 2)} %')\n",
        "\n",
        "# Median Absolute Percentage Error (MDAPE)\n",
        "MDAPE = np.median((np.abs(np.subtract(y_test_unscaled, y_pred_unscaled)/ y_test_unscaled)) ) * 100\n",
        "print(f'Median Absolute Percentage Error (MDAPE): {np.round(MDAPE, 2)} %')"
      ]
    },
    {
      "cell_type": "code",
      "execution_count": 41,
      "metadata": {
        "id": "mt_WASN05CEX"
      },
      "outputs": [],
      "source": []
    },
    {
      "cell_type": "code",
      "execution_count": 42,
      "metadata": {
        "colab": {
          "base_uri": "https://localhost:8080/"
        },
        "id": "YPaxwu7u5KzR",
        "outputId": "1fca711b-4ed9-40f5-c5aa-179829ba33fe"
      },
      "outputs": [
        {
          "name": "stdout",
          "output_type": "stream",
          "text": [
            "1/1 [==============================] - 0s 23ms/step\n",
            "1/1 [==============================] - 0s 21ms/step\n",
            "1/1 [==============================] - 0s 22ms/step\n",
            "1/1 [==============================] - 0s 22ms/step\n",
            "1/1 [==============================] - 0s 21ms/step\n",
            "1/1 [==============================] - 0s 22ms/step\n",
            "1/1 [==============================] - 0s 21ms/step\n",
            "1/1 [==============================] - 0s 21ms/step\n",
            "1/1 [==============================] - 0s 21ms/step\n",
            "1/1 [==============================] - 0s 21ms/step\n",
            "1/1 [==============================] - 0s 20ms/step\n",
            "1/1 [==============================] - 0s 21ms/step\n",
            "1/1 [==============================] - 0s 21ms/step\n",
            "1/1 [==============================] - 0s 20ms/step\n",
            "1/1 [==============================] - 0s 20ms/step\n",
            "1/1 [==============================] - 0s 22ms/step\n",
            "1/1 [==============================] - 0s 22ms/step\n",
            "1/1 [==============================] - 0s 21ms/step\n",
            "1/1 [==============================] - 0s 21ms/step\n",
            "1/1 [==============================] - 0s 21ms/step\n",
            "1/1 [==============================] - 0s 21ms/step\n",
            "1/1 [==============================] - 0s 21ms/step\n",
            "1/1 [==============================] - 0s 21ms/step\n",
            "1/1 [==============================] - 0s 22ms/step\n",
            "1/1 [==============================] - 0s 22ms/step\n",
            "1/1 [==============================] - 0s 24ms/step\n",
            "1/1 [==============================] - 0s 21ms/step\n",
            "1/1 [==============================] - 0s 21ms/step\n",
            "1/1 [==============================] - 0s 22ms/step\n",
            "1/1 [==============================] - 0s 21ms/step\n"
          ]
        }
      ],
      "source": [
        "# Settings and Model Labels\n",
        "rolling_forecast_range = 30\n",
        "titletext = \"Forecast Chart Model A\"\n",
        "ms = [\n",
        "    [\"epochs\", epochs],\n",
        "    [\"batch_size\", batch_size],\n",
        "    [\"lstm_neuron_number\", n_neurons],\n",
        "    [\"rolling_forecast_range\", rolling_forecast_range],\n",
        "    [\"layers\", \"LSTM, DENSE(1)\"],\n",
        "]\n",
        "settings_text = \"\"\n",
        "lms = len(ms)\n",
        "for i in range(0, lms):\n",
        "    settings_text += ms[i][0] + \": \" + str(ms[i][1])\n",
        "    \n",
        "    if i < lms - 1:\n",
        "        settings_text = settings_text + \",  \"\n",
        "\n",
        "# Making a Multi-Step Prediction\n",
        "# Create the initial input data\n",
        "new_df = df_foods.filter([\"total_sells\"])\n",
        "for i in range(0, rolling_forecast_range):\n",
        "    # Select the last sequence from the dataframe as input for the prediction model\n",
        "    last_values = new_df[-n_neurons:].values\n",
        "    \n",
        "    # Scale the input data and bring it into shape\n",
        "    last_values_scaled = scaler.transform(last_values)\n",
        "    X_input = np.array(last_values_scaled).reshape([1, 180, 1])\n",
        "    X_test = np.reshape(X_input, (X_input.shape[0], X_input.shape[1], 1))\n",
        "    \n",
        "    # Predict and unscale the predictions\n",
        "    pred_value = model.predict(X_input)\n",
        "    pred_value_unscaled = scaler.inverse_transform(pred_value)\n",
        "    \n",
        "    # Add the prediction to the next input dataframe\n",
        "    new_df = pd.concat([new_df, pd.DataFrame({\"total_sells\": pred_value_unscaled[0, 0]}, index=new_df.iloc[[-1]].index.values + 1)])\n",
        "    new_df_length = new_df.size\n",
        "forecast = new_df[new_df_length - rolling_forecast_range : new_df_length].rename(\n",
        "    columns={\"total_sells\": \"Forecast\"}\n",
        ")"
      ]
    },
    {
      "cell_type": "code",
      "execution_count": 43,
      "metadata": {
        "colab": {
          "base_uri": "https://localhost:8080/"
        },
        "id": "IgsrGJ_E7ywZ",
        "outputId": "d4830868-09a1-4ab0-9647-125b02bbef07"
      },
      "outputs": [
        {
          "data": {
            "text/plain": [
              "(30, 3)"
            ]
          },
          "execution_count": 43,
          "metadata": {},
          "output_type": "execute_result"
        }
      ],
      "source": [
        "df_foods_test_hold.shape"
      ]
    },
    {
      "cell_type": "code",
      "execution_count": 44,
      "metadata": {
        "id": "7_ZvdlNI7dw-"
      },
      "outputs": [],
      "source": [
        "yval = df_foods_test_hold.iloc[:30,:][[\"total_sells\"]]\n",
        "yval[\"y_pred\"] = forecast.values"
      ]
    },
    {
      "cell_type": "code",
      "execution_count": 45,
      "metadata": {
        "colab": {
          "base_uri": "https://localhost:8080/"
        },
        "id": "JzFS_R4879dI",
        "outputId": "e1aedb17-5bc8-40de-b3c4-6f87a1ac8c8c"
      },
      "outputs": [
        {
          "name": "stdout",
          "output_type": "stream",
          "text": [
            "Median Absolute Error (MAE): 18875740.51\n",
            "Mean Absolute Percentage Error (MAPE): 21.45 %\n",
            "Median Absolute Percentage Error (MDAPE): 23.62 %\n"
          ]
        }
      ],
      "source": [
        "# Mean Absolute Error (MAE)\n",
        "y_test_unscaled, y_pred_unscaled = yval.total_sells.values, yval.y_pred.values\n",
        "\n",
        "MAE = mean_absolute_error(y_test_unscaled, y_pred_unscaled)\n",
        "print(f'Median Absolute Error (MAE): {np.round(MAE, 2)}')\n",
        "\n",
        "# Mean Absolute Percentage Error (MAPE)\n",
        "MAPE = np.mean((np.abs(np.subtract(y_test_unscaled, y_pred_unscaled)/ y_test_unscaled))) * 100\n",
        "print(f'Mean Absolute Percentage Error (MAPE): {np.round(MAPE, 2)} %')\n",
        "\n",
        "# Median Absolute Percentage Error (MDAPE)\n",
        "MDAPE = np.median((np.abs(np.subtract(y_test_unscaled, y_pred_unscaled)/ y_test_unscaled)) ) * 100\n",
        "print(f'Median Absolute Percentage Error (MDAPE): {np.round(MDAPE, 2)} %')"
      ]
    },
    {
      "cell_type": "code",
      "execution_count": 46,
      "metadata": {
        "colab": {
          "base_uri": "https://localhost:8080/",
          "height": 525
        },
        "id": "JoNnS2dA8EEI",
        "outputId": "85360be9-35c2-4504-9816-0e88c3b5df51"
      },
      "outputs": [
        {
          "data": {
            "text/plain": [
              "<matplotlib.axes._subplots.AxesSubplot at 0x7fb75debac70>"
            ]
          },
          "execution_count": 46,
          "metadata": {},
          "output_type": "execute_result"
        },
        {
          "data": {
            "image/png": "[encoded data removed]",
            "text/plain": [
              "<Figure size 1440x576 with 1 Axes>"
            ]
          },
          "metadata": {},
          "output_type": "display_data"
        }
      ],
      "source": [
        "plt.figure(figsize=(20,8))\n",
        "plt.tight_layout\n",
        "sns.lineplot(data=yval)\n"
      ]
    }
  ],
  "metadata": {
    "accelerator": "GPU",
    "colab": {
      "provenance": []
    },
    "gpuClass": "premium",
    "kernelspec": {
      "display_name": "Python 3.10.4 64-bit",
      "language": "python",
      "name": "python3"
    },
    "language_info": {
      "name": "python",
      "version": "3.10.4"
    },
    "vscode": {
      "interpreter": {
        "hash": "609973a2d1f31d45d1c4d9f5c0b4ecf9cb33fe1a555b03392724c0cdbb5c54ba"
      }
    }
  },
  "nbformat": 4,
  "nbformat_minor": 0
}
